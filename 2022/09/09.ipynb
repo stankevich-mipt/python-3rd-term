{
 "cells": [
  {
   "cell_type": "markdown",
   "id": "e39210d0",
   "metadata": {},
   "source": [
    "# Sympy: символьная математика в Python"
   ]
  },
  {
   "cell_type": "markdown",
   "id": "ad67c60f",
   "metadata": {},
   "source": [
    "### Базовый объект SymPy - символ. Алгебра символов эквивалентна алгебре функций действительной переменной"
   ]
  },
  {
   "cell_type": "code",
   "execution_count": 1,
   "id": "05ff2aa1",
   "metadata": {},
   "outputs": [],
   "source": [
    "import sympy as sym \n",
    "sym.init_printing()\n",
    "\n",
    "x, y = sym.symbols('\\lambda \\mu')"
   ]
  },
  {
   "cell_type": "code",
   "execution_count": 4,
   "id": "b7280464",
   "metadata": {},
   "outputs": [
    {
     "data": {
      "image/png": "[encoded data removed]",
      "text/latex": [
       "$\\displaystyle \\lambda$"
      ],
      "text/plain": [
       "\\lambda"
      ]
     },
     "execution_count": 4,
     "metadata": {},
     "output_type": "execute_result"
    }
   ],
   "source": [
    "x"
   ]
  },
  {
   "cell_type": "code",
   "execution_count": 6,
   "id": "1bb623d4",
   "metadata": {},
   "outputs": [
    {
     "data": {
      "image/png": "[encoded data removed]",
      "text/latex": [
       "$\\displaystyle 2 \\lambda + \\mu$"
      ],
      "text/plain": [
       "2⋅\\lambda + \\mu"
      ]
     },
     "execution_count": 6,
     "metadata": {},
     "output_type": "execute_result"
    }
   ],
   "source": [
    "a = x + y + x\n",
    "a"
   ]
  },
  {
   "cell_type": "code",
   "execution_count": 7,
   "id": "d8376732",
   "metadata": {},
   "outputs": [
    {
     "data": {
      "image/png": "[encoded data removed]",
      "text/latex": [
       "$\\displaystyle \\lambda + \\mu$"
      ],
      "text/plain": [
       "\\lambda + \\mu"
      ]
     },
     "execution_count": 7,
     "metadata": {},
     "output_type": "execute_result"
    }
   ],
   "source": [
    "a -= x\n",
    "a"
   ]
  },
  {
   "cell_type": "code",
   "execution_count": 8,
   "id": "12ea0c97",
   "metadata": {},
   "outputs": [
    {
     "data": {
      "image/png": "[encoded data removed]",
      "text/latex": [
       "$\\displaystyle \\lambda + 6 \\mu + 12$"
      ],
      "text/plain": [
       "\\lambda + 6⋅\\mu + 12"
      ]
     },
     "execution_count": 8,
     "metadata": {},
     "output_type": "execute_result"
    }
   ],
   "source": [
    "a += (5*y + 12)\n",
    "a"
   ]
  },
  {
   "cell_type": "markdown",
   "id": "e4523708",
   "metadata": {},
   "source": [
    "### В некотором роде SymPy - это библиотека функционального программирования, использующая философию 'ленивых вычислений'"
   ]
  },
  {
   "cell_type": "code",
   "execution_count": 9,
   "id": "167fd134",
   "metadata": {},
   "outputs": [
    {
     "name": "stdout",
     "output_type": "stream",
     "text": [
      "x**2 + 5*x + 1\n"
     ]
    }
   ],
   "source": [
    "from sympy import symbols\n",
    "\n",
    "x = symbols('x')\n",
    "\n",
    "f = x**2 + 5*x + 1\n",
    "print(f)"
   ]
  },
  {
   "cell_type": "code",
   "execution_count": 10,
   "id": "56f00a3d",
   "metadata": {},
   "outputs": [
    {
     "name": "stdout",
     "output_type": "stream",
     "text": [
      "15.0000000000000\n"
     ]
    }
   ],
   "source": [
    "# для того, чтобы подставить в функции число, есть метод evalf\n",
    "print(f.evalf(subs={x: 2}))"
   ]
  },
  {
   "cell_type": "code",
   "execution_count": 11,
   "id": "d0ed04af",
   "metadata": {},
   "outputs": [
    {
     "name": "stdout",
     "output_type": "stream",
     "text": [
      "3.00000000000000\n"
     ]
    }
   ],
   "source": [
    "print((x + x + x).evalf(subs={x : 1}))"
   ]
  },
  {
   "cell_type": "markdown",
   "id": "88286617",
   "metadata": {},
   "source": [
    "### Sympy умеет решать алгебраические уравнения, и не только. Иногда точно, иногда численно - за подробностями в документацию"
   ]
  },
  {
   "cell_type": "code",
   "execution_count": 14,
   "id": "368e663f",
   "metadata": {},
   "outputs": [
    {
     "name": "stdout",
     "output_type": "stream",
     "text": [
      "Eq(x**3 + 5*x + 1, 1)\n"
     ]
    }
   ],
   "source": [
    "from sympy import symbols, Eq, solve\n",
    "\n",
    "x = symbols('x')\n",
    "\n",
    "f = x**3 + 5 * x + 1\n",
    "e = Eq(f, 1)\n",
    "print(e)"
   ]
  },
  {
   "cell_type": "code",
   "execution_count": 15,
   "id": "b26c0d2f",
   "metadata": {},
   "outputs": [
    {
     "name": "stdout",
     "output_type": "stream",
     "text": [
      "Root 0: 0\n",
      "Root 1: -sqrt(5)*I\n",
      "Root 2: sqrt(5)*I\n"
     ]
    }
   ],
   "source": [
    "result = solve(e)\n",
    "for i, root in enumerate(result):\n",
    "    print(f'Root {i}: {root}')"
   ]
  },
  {
   "cell_type": "markdown",
   "id": "4874b386",
   "metadata": {},
   "source": [
    "### Можно даже решить уравнение с параметром. Функционал библиотеки с лихвой покрывает программу ЕГЭ"
   ]
  },
  {
   "cell_type": "code",
   "execution_count": 16,
   "id": "1a7be4ff",
   "metadata": {},
   "outputs": [
    {
     "name": "stdout",
     "output_type": "stream",
     "text": [
      "Eq(a**2*x + x**2, 0)\n",
      "Root 0: {a: -sqrt(-x)}\n",
      "Root 1: {a: sqrt(-x)}\n",
      "Root 2: {x: 0}\n"
     ]
    }
   ],
   "source": [
    "from sympy import symbols, Eq, solve\n",
    "\n",
    "x = symbols('x')\n",
    "\n",
    "a = symbols('a')\n",
    "f2 = x**2 + a * a * x\n",
    "e2 = Eq(f2, 0)\n",
    "print(e2)\n",
    "\n",
    "result2_1 = solve(e2)\n",
    "for i, root in enumerate(result2_1):\n",
    "    print(f'Root {i}: {root}')\n",
    "\n"
   ]
  },
  {
   "cell_type": "code",
   "execution_count": 17,
   "id": "3d01338e",
   "metadata": {},
   "outputs": [
    {
     "name": "stdout",
     "output_type": "stream",
     "text": [
      "Root 0: 0\n",
      "Root 0 computed for a = 11: 0\n",
      "Root 1: -a**2\n",
      "Root 1 computed for a = 11: -121\n"
     ]
    }
   ],
   "source": [
    "a0 = 11\n",
    "result2_2 = solve(e2, x)\n",
    "for i, root in enumerate(result2_2):\n",
    "    print(f'Root {i}: {root}')\n",
    "    print(f'Root {i} computed for a = {a0}: {root.subs({a: a0})}')"
   ]
  },
  {
   "cell_type": "markdown",
   "id": "d5768150",
   "metadata": {},
   "source": [
    "### Sympy также умеет работать с матрицами. Поиграемся, например, с матрицей A в составе системы уравнений упругости в 2D. "
   ]
  },
  {
   "cell_type": "code",
   "execution_count": 24,
   "id": "7abfa418",
   "metadata": {},
   "outputs": [],
   "source": [
    "lmbda, mu, rho =  sym.symbols('\\lambda \\mu \\rho')\n",
    "\n",
    "A = sym.Matrix([\n",
    "    [0., 0., 1/rho, 0., 0.],\n",
    "    [0., 0., 0., 0., 1/rho],\n",
    "    [lmbda + 2 * mu, 0., 0., 0., 0.],\n",
    "    [lmbda, 0., 0., 0., 0.],\n",
    "    [0., mu, 0., 0., 0.],\n",
    "])\n"
   ]
  },
  {
   "cell_type": "code",
   "execution_count": 25,
   "id": "59dd8ae2",
   "metadata": {},
   "outputs": [
    {
     "data": {
      "image/png": "[encoded data removed]",
      "text/latex": [
       "$\\displaystyle \\left[\\begin{matrix}0 & 0 & \\frac{1}{ho} & 0 & 0\\\\0 & 0 & 0 & 0 & \\frac{1}{ho}\\\\\\lambda + 2 \\mu & 0 & 0 & 0 & 0\\\\\\lambda & 0 & 0 & 0 & 0\\\\0 & \\mu & 0 & 0 & 0\\end{matrix}\\right]$"
      ],
      "text/plain": [
       "⎡                      1        ⎤\n",
       "⎢       0          0   ──  0  0 ⎥\n",
       "⎢                      ho       ⎥\n",
       "⎢                               ⎥\n",
       "⎢                             1 ⎥\n",
       "⎢       0          0   0   0  ──⎥\n",
       "⎢                             ho⎥\n",
       "⎢                               ⎥\n",
       "⎢\\lambda + 2⋅\\mu   0   0   0  0 ⎥\n",
       "⎢                               ⎥\n",
       "⎢    \\lambda       0   0   0  0 ⎥\n",
       "⎢                               ⎥\n",
       "⎣       0         \\mu  0   0  0 ⎦"
      ]
     },
     "execution_count": 25,
     "metadata": {},
     "output_type": "execute_result"
    }
   ],
   "source": [
    "A"
   ]
  },
  {
   "cell_type": "code",
   "execution_count": 26,
   "id": "24446ba8",
   "metadata": {},
   "outputs": [],
   "source": [
    "U, D = A.diagonalize()"
   ]
  },
  {
   "cell_type": "code",
   "execution_count": 27,
   "id": "5d2fb8e7",
   "metadata": {},
   "outputs": [
    {
     "data": {
      "image/png": "[encoded data removed]",
      "text/latex": [
       "$\\displaystyle \\left[\\begin{matrix}0 & 0 & 0 & - \\frac{\\sqrt{\\frac{\\lambda + 2 \\mu}{ho}}}{\\lambda} & \\frac{\\sqrt{\\frac{\\lambda + 2 \\mu}{ho}}}{\\lambda}\\\\0 & - \\frac{\\sqrt{\\frac{\\mu}{ho}}}{\\mu} & \\frac{\\sqrt{\\frac{\\mu}{ho}}}{\\mu} & 0 & 0\\\\0 & 0 & 0 & \\frac{\\lambda + 2 \\mu}{\\lambda} & \\frac{\\lambda + 2 \\mu}{\\lambda}\\\\1 & 0 & 0 & 1 & 1\\\\0 & 1 & 1 & 0 & 0\\end{matrix}\\right]$"
      ],
      "text/plain": [
       "⎡                                _________________       _________________⎤\n",
       "⎢                               ╱ \\lambda + 2⋅\\mu       ╱ \\lambda + 2⋅\\mu ⎥\n",
       "⎢                           -  ╱  ───────────────      ╱  ─────────────── ⎥\n",
       "⎢                            ╲╱          ho          ╲╱          ho       ⎥\n",
       "⎢0       0           0      ───────────────────────  ─────────────────────⎥\n",
       "⎢                                   \\lambda                 \\lambda       ⎥\n",
       "⎢                                                                         ⎥\n",
       "⎢        _____       _____                                                ⎥\n",
       "⎢       ╱ \\mu       ╱ \\mu                                                 ⎥\n",
       "⎢   -  ╱  ───      ╱  ───                                                 ⎥\n",
       "⎢    ╲╱    ho    ╲╱    ho                                                 ⎥\n",
       "⎢0  ───────────  ─────────             0                       0          ⎥\n",
       "⎢       \\mu         \\mu                                                   ⎥\n",
       "⎢                                                                         ⎥\n",
       "⎢                               \\lambda + 2⋅\\mu         \\lambda + 2⋅\\mu   ⎥\n",
       "⎢0       0           0          ───────────────         ───────────────   ⎥\n",
       "⎢                                   \\lambda                 \\lambda       ⎥\n",
       "⎢                                                                         ⎥\n",
       "⎢1       0           0                 1                       1          ⎥\n",
       "⎢                                                                         ⎥\n",
       "⎣0       1           1                 0                       0          ⎦"
      ]
     },
     "execution_count": 27,
     "metadata": {},
     "output_type": "execute_result"
    }
   ],
   "source": [
    "U"
   ]
  },
  {
   "cell_type": "code",
   "execution_count": 28,
   "id": "a8a82d11",
   "metadata": {},
   "outputs": [
    {
     "data": {
      "image/png": "[encoded data removed]",
      "text/latex": [
       "$\\displaystyle \\left[\\begin{matrix}0 & 0 & 0 & 0 & 0\\\\0 & - \\sqrt{\\frac{\\mu}{ho}} & 0 & 0 & 0\\\\0 & 0 & \\sqrt{\\frac{\\mu}{ho}} & 0 & 0\\\\0 & 0 & 0 & - \\sqrt{\\frac{\\lambda + 2 \\mu}{ho}} & 0\\\\0 & 0 & 0 & 0 & \\sqrt{\\frac{\\lambda + 2 \\mu}{ho}}\\end{matrix}\\right]$"
      ],
      "text/plain": [
       "⎡0      0           0                0                       0          ⎤\n",
       "⎢                                                                       ⎥\n",
       "⎢        _____                                                          ⎥\n",
       "⎢       ╱ \\mu                                                           ⎥\n",
       "⎢0  -  ╱  ───       0                0                       0          ⎥\n",
       "⎢    ╲╱    ho                                                           ⎥\n",
       "⎢                                                                       ⎥\n",
       "⎢                   _____                                               ⎥\n",
       "⎢                  ╱ \\mu                                                ⎥\n",
       "⎢0      0         ╱  ───             0                       0          ⎥\n",
       "⎢               ╲╱    ho                                                ⎥\n",
       "⎢                                                                       ⎥\n",
       "⎢                               _________________                       ⎥\n",
       "⎢                              ╱ \\lambda + 2⋅\\mu                        ⎥\n",
       "⎢0      0           0      -  ╱  ───────────────             0          ⎥\n",
       "⎢                           ╲╱          ho                              ⎥\n",
       "⎢                                                                       ⎥\n",
       "⎢                                                      _________________⎥\n",
       "⎢                                                     ╱ \\lambda + 2⋅\\mu ⎥\n",
       "⎢0      0           0                0               ╱  ─────────────── ⎥\n",
       "⎣                                                  ╲╱          ho       ⎦"
      ]
     },
     "execution_count": 28,
     "metadata": {},
     "output_type": "execute_result"
    }
   ],
   "source": [
    "D"
   ]
  },
  {
   "cell_type": "code",
   "execution_count": 29,
   "id": "4d2ee944",
   "metadata": {},
   "outputs": [
    {
     "data": {
      "image/png": "[encoded data removed]",
      "text/latex": [
       "$\\displaystyle \\left[\\begin{matrix}0 & 0 & - \\frac{\\lambda}{\\lambda + 2 \\mu} & 1 & 0\\\\0 & - \\frac{\\mu}{2 \\sqrt{\\frac{\\mu}{ho}}} & 0 & 0 & \\frac{1}{2}\\\\0 & \\frac{\\mu}{2 \\sqrt{\\frac{\\mu}{ho}}} & 0 & 0 & \\frac{1}{2}\\\\- \\frac{\\lambda ho \\sqrt{\\frac{\\lambda}{ho} + \\frac{2 \\mu}{ho}}}{2 \\lambda + 4 \\mu} & 0 & \\frac{\\lambda}{2 \\lambda + 4 \\mu} & 0 & 0\\\\\\frac{\\lambda}{2 \\sqrt{\\frac{\\lambda}{ho} + \\frac{2 \\mu}{ho}}} & 0 & \\frac{\\lambda}{2 \\lambda + 4 \\mu} & 0 & 0\\end{matrix}\\right]$"
      ],
      "text/plain": [
       "⎡                                                     -\\lambda             ⎤\n",
       "⎢                0                        0        ───────────────   1   0 ⎥\n",
       "⎢                                                  \\lambda + 2⋅\\mu         ⎥\n",
       "⎢                                                                          ⎥\n",
       "⎢                                       -\\mu                               ⎥\n",
       "⎢                0                   ───────────          0          0  1/2⎥\n",
       "⎢                                          _____                           ⎥\n",
       "⎢                                         ╱ \\mu                            ⎥\n",
       "⎢                                    2⋅  ╱  ───                            ⎥\n",
       "⎢                                      ╲╱    ho                            ⎥\n",
       "⎢                                                                          ⎥\n",
       "⎢                                        \\mu                               ⎥\n",
       "⎢                0                   ───────────          0          0  1/2⎥\n",
       "⎢                                          _____                           ⎥\n",
       "⎢                                         ╱ \\mu                            ⎥\n",
       "⎢                                    2⋅  ╱  ───                            ⎥\n",
       "⎢                                      ╲╱    ho                            ⎥\n",
       "⎢                                                                          ⎥\n",
       "⎢                _________________                                         ⎥\n",
       "⎢               ╱ \\lambda   2⋅\\mu                                          ⎥\n",
       "⎢-\\lambda⋅ho⋅  ╱  ─────── + ─────                                          ⎥\n",
       "⎢            ╲╱      ho       ho                       \\lambda             ⎥\n",
       "⎢──────────────────────────────────       0       ─────────────────  0   0 ⎥\n",
       "⎢        2⋅\\lambda + 4⋅\\mu                        2⋅\\lambda + 4⋅\\mu        ⎥\n",
       "⎢                                                                          ⎥\n",
       "⎢             \\lambda                                  \\lambda             ⎥\n",
       "⎢     ───────────────────────             0       ─────────────────  0   0 ⎥\n",
       "⎢           _________________                     2⋅\\lambda + 4⋅\\mu        ⎥\n",
       "⎢          ╱ \\lambda   2⋅\\mu                                               ⎥\n",
       "⎢     2⋅  ╱  ─────── + ─────                                               ⎥\n",
       "⎣       ╲╱      ho       ho                                                ⎦"
      ]
     },
     "execution_count": 29,
     "metadata": {},
     "output_type": "execute_result"
    }
   ],
   "source": [
    "# так мы можем обратить матрицу\n",
    "U.inv()"
   ]
  },
  {
   "cell_type": "code",
   "execution_count": 29,
   "id": "5894fa06",
   "metadata": {},
   "outputs": [],
   "source": [
    "# проверим, что мы и вправду получили SVD "
   ]
  },
  {
   "cell_type": "code",
   "execution_count": 36,
   "id": "dd4683a7",
   "metadata": {},
   "outputs": [
    {
     "data": {
      "image/png": "[encoded data removed]",
      "text/latex": [
       "$\\displaystyle \\left[\\begin{matrix}1.11022302462516 \\cdot 10^{-16} \\sqrt{2} & 0 & 1.0 & 0 & 0\\\\0 & 0 & 0 & 0 & 1.0\\\\2.12132034355964 \\sqrt{2} & 0 & 0 & 0 & 0\\\\0.707106781186547 \\sqrt{2} & 0 & 0 & 0 & 0\\\\0 & 1.0 & 0 & 0 & 0\\end{matrix}\\right]$"
      ],
      "text/plain": [
       "⎡1.11022302462516e-16⋅√2   0   1.0  0   0 ⎤\n",
       "⎢                                         ⎥\n",
       "⎢           0              0    0   0  1.0⎥\n",
       "⎢                                         ⎥\n",
       "⎢  2.12132034355964⋅√2     0    0   0   0 ⎥\n",
       "⎢                                         ⎥\n",
       "⎢ 0.707106781186547⋅√2     0    0   0   0 ⎥\n",
       "⎢                                         ⎥\n",
       "⎣           0             1.0   0   0   0 ⎦"
      ]
     },
     "execution_count": 36,
     "metadata": {},
     "output_type": "execute_result"
    }
   ],
   "source": [
    "U.subs({lmbda: 1., mu: 1., rho: 1.}) * D.subs({lmbda: 1., mu: 1., rho: 1.}) * U.inv().subs({lmbda: 1., mu: 1., rho: 1.})"
   ]
  },
  {
   "cell_type": "code",
   "execution_count": 37,
   "id": "e173d69e",
   "metadata": {},
   "outputs": [
    {
     "data": {
      "image/png": "[encoded data removed]",
      "text/latex": [
       "$\\displaystyle \\left[\\begin{matrix}0 & 0 & 1.0 & 0 & 0\\\\0 & 0 & 0 & 0 & 1.0\\\\3.0 & 0 & 0 & 0 & 0\\\\1.0 & 0 & 0 & 0 & 0\\\\0 & 1.0 & 0 & 0 & 0\\end{matrix}\\right]$"
      ],
      "text/plain": [
       "⎡ 0    0   1.0  0   0 ⎤\n",
       "⎢                     ⎥\n",
       "⎢ 0    0    0   0  1.0⎥\n",
       "⎢                     ⎥\n",
       "⎢3.0   0    0   0   0 ⎥\n",
       "⎢                     ⎥\n",
       "⎢1.0   0    0   0   0 ⎥\n",
       "⎢                     ⎥\n",
       "⎣ 0   1.0   0   0   0 ⎦"
      ]
     },
     "execution_count": 37,
     "metadata": {},
     "output_type": "execute_result"
    }
   ],
   "source": [
    "A.subs({lmbda: 1., mu: 1., rho: 1.})"
   ]
  }
 ],
 "metadata": {
  "kernelspec": {
   "display_name": "Python 3",
   "language": "python",
   "name": "python3"
  },
  "language_info": {
   "codemirror_mode": {
    "name": "ipython",
    "version": 3
   },
   "file_extension": ".py",
   "mimetype": "text/x-python",
   "name": "python",
   "nbconvert_exporter": "python",
   "pygments_lexer": "ipython3",
   "version": "3.6.9"
  }
 },
 "nbformat": 4,
 "nbformat_minor": 5
}
