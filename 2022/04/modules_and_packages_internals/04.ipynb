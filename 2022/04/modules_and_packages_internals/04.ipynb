{
 "cells": [
  {
   "cell_type": "markdown",
   "id": "16d0dee6",
   "metadata": {},
   "source": [
    "#  Области видимости и пакеты"
   ]
  },
  {
   "cell_type": "markdown",
   "id": "ede4d00d",
   "metadata": {},
   "source": [
    "## Некоторые нюансы областей видимости"
   ]
  },
  {
   "cell_type": "code",
   "execution_count": 5,
   "id": "4f4783f3",
   "metadata": {},
   "outputs": [
    {
     "name": "stdout",
     "output_type": "stream",
     "text": [
      "The value is: 5\n",
      "Current value: 6\n",
      "New value: 6\n",
      "The value is: 5\n"
     ]
    }
   ],
   "source": [
    "# Есть некоторая переменная \n",
    "a = 5\n",
    "\n",
    "# Эта функция просто её печатает\n",
    "def report_value():\n",
    "    print(\"The value is:\", a)\n",
    "\n",
    "# А эта функция печатает и меняет\n",
    "def do_some_work():\n",
    "    a = 6\n",
    "    print(\"Current value:\", a)\n",
    "    print(\"New value:\", a)\n",
    "\n",
    "\n",
    "# Попробуем это всё выполнить\n",
    "report_value()\n",
    "do_some_work()\n",
    "report_value()"
   ]
  },
  {
   "cell_type": "code",
   "execution_count": 7,
   "id": "d5562651",
   "metadata": {},
   "outputs": [
    {
     "name": "stdout",
     "output_type": "stream",
     "text": [
      "Before calling bar: 20\n",
      "Calling bar now\n",
      "After calling bar: 20\n",
      "x in main: 25\n"
     ]
    }
   ],
   "source": [
    "### Теперь попробуем объявить переменную в теле функции\n",
    "\n",
    "def foo():\n",
    "    \n",
    "    x = 20\n",
    "\n",
    "    def bar():\n",
    "        global x\n",
    "        x = 25\n",
    "    \n",
    "    print(\"Before calling bar:\", x)\n",
    "    print(\"Calling bar now\")\n",
    "    bar()\n",
    "    print(\"After calling bar:\", x)\n",
    "\n",
    "foo()\n",
    "print(\"x in main:\", x)"
   ]
  },
  {
   "cell_type": "markdown",
   "id": "7f3be98d",
   "metadata": {},
   "source": [
    "#### Модификатор nonlocal"
   ]
  },
  {
   "cell_type": "code",
   "execution_count": 8,
   "id": "3caa730c",
   "metadata": {},
   "outputs": [
    {
     "name": "stdout",
     "output_type": "stream",
     "text": [
      "25\n"
     ]
    },
    {
     "data": {
      "text/plain": [
       "5"
      ]
     },
     "execution_count": 8,
     "metadata": {},
     "output_type": "execute_result"
    }
   ],
   "source": [
    "def outer():  \n",
    "    n = 5 \n",
    "    \n",
    "    def inner():    \n",
    "        n = 25\n",
    "        print(n)\n",
    "\n",
    "    inner()    \n",
    "    return n\n",
    " \n",
    "outer() "
   ]
  },
  {
   "cell_type": "code",
   "execution_count": 9,
   "id": "a334ec99",
   "metadata": {},
   "outputs": [
    {
     "name": "stdout",
     "output_type": "stream",
     "text": [
      "25\n"
     ]
    },
    {
     "data": {
      "text/plain": [
       "25"
      ]
     },
     "execution_count": 9,
     "metadata": {},
     "output_type": "execute_result"
    }
   ],
   "source": [
    "def outer():  \n",
    "    n = 5 \n",
    "    \n",
    "    def inner():\n",
    "        nonlocal n\n",
    "        n = 25\n",
    "        print(n)\n",
    "\n",
    "    inner()    \n",
    "    return n\n",
    " \n",
    "outer() "
   ]
  },
  {
   "cell_type": "markdown",
   "id": "a1c03b22",
   "metadata": {},
   "source": [
    "#### Контекст модуля"
   ]
  },
  {
   "cell_type": "code",
   "execution_count": 10,
   "id": "6b26d325",
   "metadata": {},
   "outputs": [
    {
     "data": {
      "text/plain": [
       "'__main__'"
      ]
     },
     "execution_count": 10,
     "metadata": {},
     "output_type": "execute_result"
    }
   ],
   "source": [
    "__name__"
   ]
  },
  {
   "cell_type": "code",
   "execution_count": 11,
   "id": "124227ad",
   "metadata": {},
   "outputs": [
    {
     "name": "stdout",
     "output_type": "stream",
     "text": [
      "Top level code is working, context very_simple_module\n",
      "Foo is working, context very_simple_module\n",
      "Foo is working, context very_simple_module\n"
     ]
    }
   ],
   "source": [
    "from very_simple_module import foo\n",
    "\n",
    "foo()"
   ]
  },
  {
   "cell_type": "code",
   "execution_count": 12,
   "id": "d4e8d2b4",
   "metadata": {},
   "outputs": [
    {
     "data": {
      "text/plain": [
       "'very_simple_module'"
      ]
     },
     "execution_count": 12,
     "metadata": {},
     "output_type": "execute_result"
    }
   ],
   "source": [
    "foo.__module__"
   ]
  },
  {
   "cell_type": "code",
   "execution_count": 1,
   "id": "9b971da4",
   "metadata": {},
   "outputs": [
    {
     "name": "stdout",
     "output_type": "stream",
     "text": [
      "Our __name__ is: very_simple_module_updated\n",
      "Top level code is working\n",
      "Our __name__ is: very_simple_module_updated\n",
      "Foo is working\n"
     ]
    }
   ],
   "source": [
    "from very_simple_module_updated import foo\n",
    "\n",
    "#foo()"
   ]
  },
  {
   "cell_type": "code",
   "execution_count": 24,
   "id": "2aec6152",
   "metadata": {},
   "outputs": [
    {
     "data": {
      "text/plain": [
       "'very_simple_module_updated'"
      ]
     },
     "execution_count": 24,
     "metadata": {},
     "output_type": "execute_result"
    }
   ],
   "source": [
    "foo.__module__"
   ]
  },
  {
   "cell_type": "markdown",
   "id": "749034cd",
   "metadata": {},
   "source": [
    "## Пакеты"
   ]
  },
  {
   "cell_type": "code",
   "execution_count": 1,
   "id": "d203e5db",
   "metadata": {},
   "outputs": [],
   "source": [
    "# Давайте импортируем всё, что в нём есть\n",
    "from simple_package import *"
   ]
  },
  {
   "cell_type": "code",
   "execution_count": 3,
   "id": "056c2c79",
   "metadata": {},
   "outputs": [],
   "source": [
    "import simple_package"
   ]
  },
  {
   "cell_type": "code",
   "execution_count": 11,
   "id": "c05444b0",
   "metadata": {},
   "outputs": [
    {
     "ename": "AttributeError",
     "evalue": "module 'simple_package' has no attribute 'foo'",
     "output_type": "error",
     "traceback": [
      "\u001b[0;31m---------------------------------------------------------------------------\u001b[0m",
      "\u001b[0;31mAttributeError\u001b[0m                            Traceback (most recent call last)",
      "\u001b[0;32m<ipython-input-11-788b0ea0f00a>\u001b[0m in \u001b[0;36m<module>\u001b[0;34m\u001b[0m\n\u001b[0;32m----> 1\u001b[0;31m \u001b[0msimple_package\u001b[0m\u001b[0;34m.\u001b[0m\u001b[0mfoo\u001b[0m\u001b[0;34m.\u001b[0m\u001b[0mfoo\u001b[0m\u001b[0;34m(\u001b[0m\u001b[0;34m)\u001b[0m\u001b[0;34m\u001b[0m\u001b[0;34m\u001b[0m\u001b[0m\n\u001b[0m",
      "\u001b[0;31mAttributeError\u001b[0m: module 'simple_package' has no attribute 'foo'"
     ]
    }
   ],
   "source": [
    "simple_package.fo"
   ]
  },
  {
   "cell_type": "code",
   "execution_count": 7,
   "id": "d40a0a26",
   "metadata": {},
   "outputs": [],
   "source": [
    "from simple_package_updated import *"
   ]
  },
  {
   "cell_type": "code",
   "execution_count": 9,
   "id": "13ab2fa6",
   "metadata": {},
   "outputs": [
    {
     "name": "stdout",
     "output_type": "stream",
     "text": [
      "Foo is working\n"
     ]
    }
   ],
   "source": [
    "foo.foo()"
   ]
  },
  {
   "cell_type": "code",
   "execution_count": 10,
   "id": "c0650d3e",
   "metadata": {},
   "outputs": [
    {
     "name": "stdout",
     "output_type": "stream",
     "text": [
      "Bar is working\n"
     ]
    }
   ],
   "source": [
    "bar.bar()"
   ]
  },
  {
   "cell_type": "code",
   "execution_count": 14,
   "id": "ebe49349",
   "metadata": {},
   "outputs": [
    {
     "name": "stdout",
     "output_type": "stream",
     "text": [
      "Init working, smth is created, and so on...\n"
     ]
    }
   ],
   "source": [
    "import stateful_package "
   ]
  },
  {
   "cell_type": "code",
   "execution_count": 15,
   "id": "dc59e32a",
   "metadata": {},
   "outputs": [
    {
     "name": "stdout",
     "output_type": "stream",
     "text": [
      "Test: 42\n"
     ]
    }
   ],
   "source": [
    "stateful_package.test.test()"
   ]
  },
  {
   "cell_type": "code",
   "execution_count": 16,
   "id": "b5ec75c0",
   "metadata": {},
   "outputs": [
    {
     "data": {
      "text/plain": [
       "42"
      ]
     },
     "execution_count": 16,
     "metadata": {},
     "output_type": "execute_result"
    }
   ],
   "source": [
    "stateful_package.val"
   ]
  },
  {
   "cell_type": "code",
   "execution_count": null,
   "id": "dd2d5370",
   "metadata": {},
   "outputs": [],
   "source": []
  }
 ],
 "metadata": {
  "kernelspec": {
   "display_name": "Python 3",
   "language": "python",
   "name": "python3"
  },
  "language_info": {
   "codemirror_mode": {
    "name": "ipython",
    "version": 3
   },
   "file_extension": ".py",
   "mimetype": "text/x-python",
   "name": "python",
   "nbconvert_exporter": "python",
   "pygments_lexer": "ipython3",
   "version": "3.6.9"
  }
 },
 "nbformat": 4,
 "nbformat_minor": 5
}
