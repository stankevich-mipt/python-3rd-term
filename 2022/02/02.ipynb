{
 "cells": [
  {
   "cell_type": "markdown",
   "id": "e4f36c73",
   "metadata": {},
   "source": [
    "# Синтаксис Python, часть 2."
   ]
  },
  {
   "cell_type": "markdown",
   "id": "f590b09e",
   "metadata": {},
   "source": [
    "### List comprehension"
   ]
  },
  {
   "cell_type": "code",
   "execution_count": 1,
   "id": "85ec9533",
   "metadata": {},
   "outputs": [
    {
     "name": "stdout",
     "output_type": "stream",
     "text": [
      "[0, 1, 2, 3, 4, 5, 6, 7, 8, 9]\n",
      "[0, 1, 2, 3, 4, 5, 6, 7, 8, 9]\n"
     ]
    }
   ],
   "source": [
    "# Массив можно заполнить более-менее привычным образом\n",
    "a = []\n",
    "for i in range(10):\n",
    "    a.append(i)\n",
    "print(a)\n",
    "\n",
    "# А можно вот так\n",
    "b = [i for i in range(10)]\n",
    "print(b)"
   ]
  },
  {
   "cell_type": "code",
   "execution_count": 2,
   "id": "03fb6ac5",
   "metadata": {},
   "outputs": [
    {
     "data": {
      "text/plain": [
       "True"
      ]
     },
     "execution_count": 2,
     "metadata": {},
     "output_type": "execute_result"
    }
   ],
   "source": [
    "a == b"
   ]
  },
  {
   "cell_type": "code",
   "execution_count": 3,
   "id": "40e1321b",
   "metadata": {},
   "outputs": [
    {
     "data": {
      "text/plain": [
       "<method-wrapper '__eq__' of list object at 0x7f0c2c0dd288>"
      ]
     },
     "execution_count": 3,
     "metadata": {},
     "output_type": "execute_result"
    }
   ],
   "source": [
    "a.__eq__"
   ]
  },
  {
   "cell_type": "code",
   "execution_count": 4,
   "id": "90d2e0c3",
   "metadata": {},
   "outputs": [
    {
     "name": "stdout",
     "output_type": "stream",
     "text": [
      "[0, 1, 4, 9, 16, 25, 36, 49, 64, 81]\n",
      "[1, 1, 1, 1, 1, 1, 1, 1, 1, 1]\n",
      "[2, 2, 2, 2, 2, 2, 2, 2, 2, 2]\n"
     ]
    }
   ],
   "source": [
    "# Не обязательно брать именно i на каждой итерации, можно любую операцию с его участием выполнить\n",
    "# Здесь, например, список заполнится квадратами целых чисел\n",
    "c = [i**2 for i in range(10)]\n",
    "print(c)\n",
    "\n",
    "# Собственно говоря, i может и вовсе не участвовать в том выражении, которое пойдёт в список\n",
    "# Например, зальём список единицами\n",
    "d = [1 for i in range(10)]\n",
    "print(d)\n",
    "\n",
    "# Хотя конкретно заливку можно и проще сделать:\n",
    "e = [2] * 10\n",
    "print(e)"
   ]
  },
  {
   "cell_type": "code",
   "execution_count": 5,
   "id": "8cf786b5",
   "metadata": {},
   "outputs": [
    {
     "data": {
      "text/plain": [
       "[<method-wrapper '__eq__' of list object at 0x7f0c2c0dd288>,\n",
       " <method-wrapper '__eq__' of list object at 0x7f0c2c0dd288>,\n",
       " <method-wrapper '__eq__' of list object at 0x7f0c2c0dd288>,\n",
       " <method-wrapper '__eq__' of list object at 0x7f0c2c0dd288>,\n",
       " <method-wrapper '__eq__' of list object at 0x7f0c2c0dd288>,\n",
       " <method-wrapper '__eq__' of list object at 0x7f0c2c0dd288>,\n",
       " <method-wrapper '__eq__' of list object at 0x7f0c2c0dd288>,\n",
       " <method-wrapper '__eq__' of list object at 0x7f0c2c0dd288>,\n",
       " <method-wrapper '__eq__' of list object at 0x7f0c2c0dd288>,\n",
       " <method-wrapper '__eq__' of list object at 0x7f0c2c0dd288>]"
      ]
     },
     "execution_count": 5,
     "metadata": {},
     "output_type": "execute_result"
    }
   ],
   "source": [
    "[_ for i in range(10)]"
   ]
  },
  {
   "cell_type": "code",
   "execution_count": 6,
   "id": "c8409e25",
   "metadata": {},
   "outputs": [
    {
     "data": {
      "text/plain": [
       "[1, 3, 5, 7, 9]"
      ]
     },
     "execution_count": 6,
     "metadata": {},
     "output_type": "execute_result"
    }
   ],
   "source": [
    "## также в list comprehension можно добавлять условия\n",
    "\n",
    "[i for i in range(10) if i%2]"
   ]
  },
  {
   "cell_type": "code",
   "execution_count": 8,
   "id": "de949ffc",
   "metadata": {},
   "outputs": [
    {
     "name": "stdout",
     "output_type": "stream",
     "text": [
      "1 2 3 10\n",
      "[1, 2, 3, 10]\n"
     ]
    }
   ],
   "source": [
    "# с помощью list comprehension легко читается ввод нескольких чисел строкой\n",
    "\n",
    "a = [int(s) for s in input().split()]\n",
    "print(a)"
   ]
  },
  {
   "cell_type": "code",
   "execution_count": 9,
   "id": "1e8e8bc5",
   "metadata": {},
   "outputs": [
    {
     "name": "stdout",
     "output_type": "stream",
     "text": [
      "1 1 1 2 3 3 3\n",
      "{1, 2, 3}\n"
     ]
    }
   ],
   "source": [
    "# Попробуйте запустить это и ввести повторные числа\n",
    "a = set(int(s) for s in input().split())\n",
    "print(a)"
   ]
  },
  {
   "cell_type": "code",
   "execution_count": 10,
   "id": "3daaef2c",
   "metadata": {},
   "outputs": [
    {
     "name": "stdout",
     "output_type": "stream",
     "text": [
      "{0: 0, 1: 1, 2: 8, 3: 27, 4: 64}\n"
     ]
    }
   ],
   "source": [
    "# Этот пример довольно искусственный. Но это dict comprehension.\n",
    "d = {i: i**3 for i in range(5)}\n",
    "print(d)"
   ]
  },
  {
   "cell_type": "code",
   "execution_count": 11,
   "id": "8556febc",
   "metadata": {},
   "outputs": [],
   "source": [
    "from random import sample\n",
    "\n",
    "a = [str(i) if i % 2 else i for i in range(10)]\n",
    "\n",
    "c = sample(a, len(a))"
   ]
  },
  {
   "cell_type": "code",
   "execution_count": 12,
   "id": "0b2eff73",
   "metadata": {},
   "outputs": [
    {
     "data": {
      "text/plain": [
       "[0, '1', 2, '3', 4, '5', 6, '7', 8, '9']"
      ]
     },
     "execution_count": 12,
     "metadata": {},
     "output_type": "execute_result"
    }
   ],
   "source": [
    "a"
   ]
  },
  {
   "cell_type": "code",
   "execution_count": 13,
   "id": "9cff8680",
   "metadata": {},
   "outputs": [
    {
     "data": {
      "text/plain": [
       "[6, '1', 2, '9', 8, '5', 0, '7', 4, '3']"
      ]
     },
     "execution_count": 13,
     "metadata": {},
     "output_type": "execute_result"
    }
   ],
   "source": [
    "c"
   ]
  },
  {
   "cell_type": "code",
   "execution_count": 14,
   "id": "c4bf2e6c",
   "metadata": {},
   "outputs": [
    {
     "data": {
      "text/plain": [
       "False"
      ]
     },
     "execution_count": 14,
     "metadata": {},
     "output_type": "execute_result"
    }
   ],
   "source": [
    "a == c"
   ]
  },
  {
   "cell_type": "code",
   "execution_count": 15,
   "id": "c7d2dd80",
   "metadata": {},
   "outputs": [
    {
     "data": {
      "text/plain": [
       "True"
      ]
     },
     "execution_count": 15,
     "metadata": {},
     "output_type": "execute_result"
    }
   ],
   "source": [
    "set(a) == set(c)"
   ]
  },
  {
   "cell_type": "code",
   "execution_count": 16,
   "id": "24d8c80b",
   "metadata": {},
   "outputs": [
    {
     "data": {
      "text/plain": [
       "{1, 2, 3, 4, 10}"
      ]
     },
     "execution_count": 16,
     "metadata": {},
     "output_type": "execute_result"
    }
   ],
   "source": [
    "test_set = set([1, 3, 4, 10, 2])\n",
    "test_set"
   ]
  },
  {
   "cell_type": "code",
   "execution_count": 17,
   "id": "41ec9623",
   "metadata": {},
   "outputs": [
    {
     "data": {
      "text/plain": [
       "{0, '1', 2, '3', 4, '5', 6, '7', 8, '9'}"
      ]
     },
     "execution_count": 17,
     "metadata": {},
     "output_type": "execute_result"
    }
   ],
   "source": [
    "set(c)"
   ]
  },
  {
   "cell_type": "code",
   "execution_count": 18,
   "id": "92dcfa24",
   "metadata": {},
   "outputs": [],
   "source": [
    "c = set([1, '2', 'dog', 4])"
   ]
  },
  {
   "cell_type": "code",
   "execution_count": 19,
   "id": "7d7fed86",
   "metadata": {},
   "outputs": [
    {
     "data": {
      "text/plain": [
       "{1, '2', 4, 'dog'}"
      ]
     },
     "execution_count": 19,
     "metadata": {},
     "output_type": "execute_result"
    }
   ],
   "source": [
    "c"
   ]
  },
  {
   "cell_type": "markdown",
   "id": "219fc1bc",
   "metadata": {},
   "source": [
    "### Iterables"
   ]
  },
  {
   "cell_type": "code",
   "execution_count": 20,
   "id": "009fa28c",
   "metadata": {},
   "outputs": [
    {
     "name": "stdout",
     "output_type": "stream",
     "text": [
      "4\n",
      "3\n",
      "81\n"
     ]
    }
   ],
   "source": [
    "\"\"\"\n",
    "В Python-е есть довольно фундаментальное понятие - iterable.\n",
    "Всё, что может последовательно перебираться - iterable.\n",
    "Очень многие функции на вход на самом деле принимают именно iterable.\n",
    "\"\"\"\n",
    "\n",
    "# Например, есть у нас list некоторой длины, он iterable\n",
    "a = [1, 2, 3, 4]\n",
    "# Поэтому к нему, например, можно применить max - max принимает на вход iterable сущность произвольной длины\n",
    "print(max(a))\n",
    "\n",
    "# Аналогично set - он тоже iterable\n",
    "s = {1, 2, 3}\n",
    "print(max(s))\n",
    "\n",
    "# Более того, выполнение некоторого кода тоже порождает iterable результат\n",
    "# И этот iterable результат можно использовать \"на лету\", передавая куда-нибудь без создания промежуточных коллекций\n",
    "print(max(i**2 for i in range(10)))"
   ]
  },
  {
   "cell_type": "code",
   "execution_count": 21,
   "id": "ca2b7eab",
   "metadata": {},
   "outputs": [],
   "source": [
    "#Метод списка extend, напимер, тоже принимает на вход iterable\n",
    "#То есть, такое прокатывает\n",
    "\n",
    "test = [1, 2, 3]\n",
    "test.extend({i: i ** 3 for i in range(10)})"
   ]
  },
  {
   "cell_type": "code",
   "execution_count": 22,
   "id": "29bb40ce",
   "metadata": {},
   "outputs": [
    {
     "data": {
      "text/plain": [
       "[1, 2, 3, 0, 1, 2, 3, 4, 5, 6, 7, 8, 9]"
      ]
     },
     "execution_count": 22,
     "metadata": {},
     "output_type": "execute_result"
    }
   ],
   "source": [
    "test"
   ]
  },
  {
   "cell_type": "markdown",
   "id": "8bfb6e4b",
   "metadata": {},
   "source": [
    "### Операции над iterable"
   ]
  },
  {
   "cell_type": "code",
   "execution_count": 25,
   "id": "58626d3f",
   "metadata": {},
   "outputs": [
    {
     "name": "stdout",
     "output_type": "stream",
     "text": [
      "Value 0: a\n",
      "Value 1: b\n",
      "Value 2: d\n",
      "Value 3: c\n"
     ]
    }
   ],
   "source": [
    "\"\"\"\n",
    "Разумеется, над iterable сущностями можно много всего выполнить.\n",
    "Здесь некоторые характерные примеры.\n",
    "\"\"\"\n",
    "\n",
    "# Создадим set из символов строки.\n",
    "# Просто потому что можем. Ну и для ещё одного примера кастов, конечно.\n",
    "s = set(\"abcd\")\n",
    "\n",
    "# Просто for-ы уже были (примерно аналоги range for-ов в C++).\n",
    "# А если iterable хочется обойти, имея не только значение, но и индекс, то можно использовать enumerate.\n",
    "# (Ещё раз напомним, что set и dict в Python не упорядоченные!)\n",
    "for index, value in enumerate(s):\n",
    "    print(f'Value {index}: {value}')"
   ]
  },
  {
   "cell_type": "code",
   "execution_count": 26,
   "id": "7899f1da",
   "metadata": {},
   "outputs": [
    {
     "name": "stdout",
     "output_type": "stream",
     "text": [
      "Set does not contain q\n",
      "a in set: True\n",
      "z in set: False\n"
     ]
    }
   ],
   "source": [
    "# Если нужно проверить, есть ли элемент в коллекции (контейнер в терминах C++), то для этого используется in.\n",
    "# Реализация этого in-а будет разная для разных коллекций. Время работы соответственное.\n",
    "if 'q' in s:\n",
    "    print(\"Set contains q\")\n",
    "else:\n",
    "    print(\"Set does not contain q\")\n",
    "\n",
    "# Ещё раз проверим вхождение нескольких элементов в коллекцию.\n",
    "# Просто ради ещё одной демки синтаксиса.\n",
    "for v in list(\"az\"):\n",
    "    print(f'{v} in set: {v in s}')"
   ]
  },
  {
   "cell_type": "code",
   "execution_count": 27,
   "id": "6a0265ab",
   "metadata": {},
   "outputs": [
    {
     "name": "stdout",
     "output_type": "stream",
     "text": [
      "List itself: [1, 2, 3, 4] <class 'list'>\n",
      "Values from list: 1 2 3 4\n",
      "Ad-hoc pair: 1 a\n",
      "Ad-hoc pair: 2 b\n",
      "Ad-hoc pair: 3 c\n",
      "Ad-hoc pair: 4 d\n"
     ]
    }
   ],
   "source": [
    "\"\"\"\n",
    "А теперь чуть менее характерные примеры.\n",
    "\"\"\"\n",
    "\n",
    "# Есть у нас список\n",
    "il = [1, 2, 3, 4]\n",
    "\n",
    "# Под именем il у нас сам list\n",
    "print(\"List itself:\", il, type(il))\n",
    "# А обратившись *il можно получить все значения из него\n",
    "print(\"Values from list:\", *il)\n",
    "\n",
    "# А теперь есть второй list\n",
    "sl = list(\"abcd\")\n",
    "\n",
    "# Если мы захотим параллельную итерацию по двум спискам,\n",
    "# её можно организовать вот так.\n",
    "for i, s in zip(il, sl):\n",
    "    print(f'Ad-hoc pair: {i} {s}')\n"
   ]
  },
  {
   "cell_type": "code",
   "execution_count": 28,
   "id": "9e7ff6df",
   "metadata": {},
   "outputs": [
    {
     "name": "stdout",
     "output_type": "stream",
     "text": [
      "<class 'zip'>\n",
      "<class 'list'>\n"
     ]
    }
   ],
   "source": [
    "# Технически zip возвращает (сюрприз!) итератор.\n",
    "# (Да, ровно как в C++. Иногда они возвращаются.)\n",
    "print(type(zip(il, sl)))\n",
    "\n",
    "# При желании этот итератор можно к чему-нибудь кастануть.\n",
    "print(type(list(zip(il, sl))))"
   ]
  },
  {
   "cell_type": "code",
   "execution_count": 29,
   "id": "736cbedf",
   "metadata": {},
   "outputs": [
    {
     "data": {
      "text/plain": [
       "[(1, 'a'), (2, 'b'), (3, 'c'), (4, 'd')]"
      ]
     },
     "execution_count": 29,
     "metadata": {},
     "output_type": "execute_result"
    }
   ],
   "source": [
    "list(zip(il, sl))"
   ]
  },
  {
   "cell_type": "code",
   "execution_count": 30,
   "id": "0e5b63ab",
   "metadata": {},
   "outputs": [
    {
     "name": "stdout",
     "output_type": "stream",
     "text": [
      "<class 'map'> <map object at 0x7f0c2c0ecc88>\n",
      "[1, 8, 27, 64]\n"
     ]
    }
   ],
   "source": [
    "# А теперь мы хотим что-нибудь применить ко всем элементам списка.\n",
    "# Можем сделать это, например, вот так.\n",
    "# Вызов map применяет заданную функцию к заданной iterable сущности.\n",
    "res = map(lambda value: value**3, il)\n",
    "\n",
    "# Возвращает опять итератор.\n",
    "print(type(res), res)\n",
    "\n",
    "# И его опять можно кастануть, если требуется.\n",
    "print(list(res))"
   ]
  },
  {
   "cell_type": "markdown",
   "id": "97cbeaad",
   "metadata": {},
   "source": [
    "### Slicing"
   ]
  },
  {
   "cell_type": "code",
   "execution_count": 31,
   "id": "c9bfb1ae",
   "metadata": {},
   "outputs": [
    {
     "name": "stdout",
     "output_type": "stream",
     "text": [
      "[0, 1, 2, 3, 4, 5, 6, 7, 8, 9]\n"
     ]
    }
   ],
   "source": [
    "# И снова у нас есть список (на самом деле опять iterable сущность, но пусть будет список для примера)\n",
    "a = [i for i in range(10)]\n",
    "print(a)"
   ]
  },
  {
   "cell_type": "code",
   "execution_count": 32,
   "id": "e20f7ab3",
   "metadata": {},
   "outputs": [
    {
     "name": "stdout",
     "output_type": "stream",
     "text": [
      "[1, 2, 3]\n"
     ]
    }
   ],
   "source": [
    "# Можно обратиться к его диапазону\n",
    "print(a[1:4])"
   ]
  },
  {
   "cell_type": "code",
   "execution_count": 33,
   "id": "1a7257c7",
   "metadata": {},
   "outputs": [
    {
     "name": "stdout",
     "output_type": "stream",
     "text": [
      "1\n",
      "4\n",
      "9\n"
     ]
    }
   ],
   "source": [
    "# Не только для печати можно, для произвольных операций\n",
    "for i in a[1:4]:\n",
    "    print(i*i)"
   ]
  },
  {
   "cell_type": "code",
   "execution_count": 34,
   "id": "54ddfc61",
   "metadata": {},
   "outputs": [
    {
     "name": "stdout",
     "output_type": "stream",
     "text": [
      "[0, -1, -2, -3, 4, 5, 6, 7, 8, 9]\n"
     ]
    }
   ],
   "source": [
    "# Более того, для записи тоже можно\n",
    "a[1:4] = [-1, -2, -3]\n",
    "print(a)"
   ]
  },
  {
   "cell_type": "code",
   "execution_count": 35,
   "id": "e3b6f899",
   "metadata": {},
   "outputs": [
    {
     "name": "stdout",
     "output_type": "stream",
     "text": [
      "[0, 42, 4, 5, 6, 7, 8, 9]\n"
     ]
    }
   ],
   "source": [
    "# Более того, размеры слайсов слева и справа могут не совпадать - так можно заменить произвольный диапазон\n",
    "a[1:4] = [42]\n",
    "print(a)"
   ]
  },
  {
   "cell_type": "code",
   "execution_count": 36,
   "id": "6f1d7470",
   "metadata": {},
   "outputs": [
    {
     "name": "stdout",
     "output_type": "stream",
     "text": [
      "[0, 4, 5, 6, 7, 8, 9]\n"
     ]
    }
   ],
   "source": [
    "# Даже удалить можно\n",
    "a[1:2] = []\n",
    "print(a)"
   ]
  },
  {
   "cell_type": "code",
   "execution_count": 37,
   "id": "0be05277",
   "metadata": {},
   "outputs": [
    {
     "name": "stdout",
     "output_type": "stream",
     "text": [
      "0\n",
      "9\n"
     ]
    }
   ],
   "source": [
    "# Ещё можно делать индексацию по отрицательным индексам - с конца\n",
    "# Это будет первый элемент\n",
    "print(a[0])\n",
    "# А это последний\n",
    "print(a[-1])"
   ]
  },
  {
   "cell_type": "code",
   "execution_count": 38,
   "id": "43081d8a",
   "metadata": {},
   "outputs": [
    {
     "name": "stdout",
     "output_type": "stream",
     "text": [
      "[7, 8, 9]\n"
     ]
    }
   ],
   "source": [
    "# Со слайсами так тоже можно\n",
    "# (если пропустить какую-то из цифр - там будет \"от начала\" или \"до конца\" соответственно\n",
    "print(a[-3:])"
   ]
  },
  {
   "cell_type": "code",
   "execution_count": 39,
   "id": "9313838e",
   "metadata": {},
   "outputs": [
    {
     "name": "stdout",
     "output_type": "stream",
     "text": [
      "[0, 1, 2, 3, 4, 5, 6, 7, 8, 9]\n",
      "[1, 3, 5, 7, 9]\n",
      "[9, 8, 7, 6, 5, 4, 3, 2, 1, 0]\n"
     ]
    }
   ],
   "source": [
    "# Еще можно получить слайс с заданной позиции с заданным шагом\n",
    "b = [i for i in range(10)]\n",
    "print(b)\n",
    "print(b[1::2])\n",
    "\n",
    "# И в обратную сторону так ходить тоже можно\n",
    "print(b[::-1])"
   ]
  },
  {
   "cell_type": "markdown",
   "id": "ddb536b6",
   "metadata": {},
   "source": [
    "### Tuples"
   ]
  },
  {
   "cell_type": "code",
   "execution_count": 40,
   "id": "7a72ffe0",
   "metadata": {},
   "outputs": [
    {
     "name": "stdout",
     "output_type": "stream",
     "text": [
      "(1, 2, 3)\n",
      "1\n"
     ]
    }
   ],
   "source": [
    "# Tuple - это immputable эквивалент list\n",
    "# На них работает всё то, что было выше для списков\n",
    "t = (1, 2, 3)\n",
    "print(t)\n",
    "print(t[0])"
   ]
  },
  {
   "cell_type": "code",
   "execution_count": 41,
   "id": "68103fc9",
   "metadata": {},
   "outputs": [
    {
     "ename": "TypeError",
     "evalue": "'tuple' object does not support item assignment",
     "output_type": "error",
     "traceback": [
      "\u001b[0;31m---------------------------------------------------------------------------\u001b[0m",
      "\u001b[0;31mTypeError\u001b[0m                                 Traceback (most recent call last)",
      "\u001b[0;32m<ipython-input-41-3e80c4faed7a>\u001b[0m in \u001b[0;36m<module>\u001b[0;34m\u001b[0m\n\u001b[1;32m      1\u001b[0m \u001b[0;31m# эта строчка закономерно должна упасть\u001b[0m\u001b[0;34m\u001b[0m\u001b[0;34m\u001b[0m\u001b[0;34m\u001b[0m\u001b[0m\n\u001b[0;32m----> 2\u001b[0;31m \u001b[0mt\u001b[0m\u001b[0;34m[\u001b[0m\u001b[0;36m0\u001b[0m\u001b[0;34m]\u001b[0m \u001b[0;34m=\u001b[0m \u001b[0;34m-\u001b[0m\u001b[0;36m1\u001b[0m\u001b[0;34m\u001b[0m\u001b[0;34m\u001b[0m\u001b[0m\n\u001b[0m",
      "\u001b[0;31mTypeError\u001b[0m: 'tuple' object does not support item assignment"
     ]
    }
   ],
   "source": [
    "# эта строчка закономерно должна упасть\n",
    "t[0] = -1"
   ]
  },
  {
   "cell_type": "code",
   "execution_count": 42,
   "id": "139b9bd6",
   "metadata": {},
   "outputs": [
    {
     "name": "stdout",
     "output_type": "stream",
     "text": [
      "('a', 'b', 'c')\n"
     ]
    }
   ],
   "source": [
    "# Присвоить повторно при этом можно, но только целиком\n",
    "t = ('a', 'b', 'c')\n",
    "print(t)"
   ]
  },
  {
   "cell_type": "code",
   "execution_count": 43,
   "id": "20e7912d",
   "metadata": {},
   "outputs": [
    {
     "name": "stdout",
     "output_type": "stream",
     "text": [
      "('a', 'b', 'c')\n"
     ]
    }
   ],
   "source": [
    "# Присовить один тапл другому тоже, конечно, можно\n",
    "t2 = t\n",
    "print(t2)"
   ]
  },
  {
   "cell_type": "code",
   "execution_count": 44,
   "id": "e7792066",
   "metadata": {},
   "outputs": [
    {
     "name": "stdout",
     "output_type": "stream",
     "text": [
      "(1, 2, 3)\n"
     ]
    }
   ],
   "source": [
    "# Ещё можно пропускать скобки. Вот так тоже будет тапл:\n",
    "tt = 1, 2, 3\n",
    "print(tt)"
   ]
  },
  {
   "cell_type": "code",
   "execution_count": 45,
   "id": "789c9451",
   "metadata": {},
   "outputs": [
    {
     "name": "stdout",
     "output_type": "stream",
     "text": [
      "1 2\n"
     ]
    }
   ],
   "source": [
    "# Можно распаковать содержимое тапла в несколько переменных\n",
    "# Это часто удобно, но это ладно\n",
    "a, b, c = tt\n",
    "print(a, b)"
   ]
  },
  {
   "cell_type": "code",
   "execution_count": 46,
   "id": "ad35a4e0",
   "metadata": {},
   "outputs": [
    {
     "name": "stdout",
     "output_type": "stream",
     "text": [
      "2 1\n"
     ]
    }
   ],
   "source": [
    "# Но дальше можно написать такое:\n",
    "b, a = a, b\n",
    "# И они правда поменяются местами:\n",
    "print(a, b)"
   ]
  },
  {
   "cell_type": "code",
   "execution_count": 47,
   "id": "e0dbc382",
   "metadata": {},
   "outputs": [
    {
     "data": {
      "text/plain": [
       "tuple"
      ]
     },
     "execution_count": 47,
     "metadata": {},
     "output_type": "execute_result"
    }
   ],
   "source": [
    "# В Python зачастую можно увидеть такую конструкцию \n",
    "# Нетрудно догадаться, что выходом функции также будет tuple\n",
    "\n",
    "def func(a, b):\n",
    "    return a + b, a - b\n",
    "\n",
    "type(func(3, 4))"
   ]
  },
  {
   "cell_type": "code",
   "execution_count": 48,
   "id": "d044ad2c",
   "metadata": {},
   "outputs": [
    {
     "name": "stdout",
     "output_type": "stream",
     "text": [
      "7 -1\n"
     ]
    }
   ],
   "source": [
    "# Выходной тапл, аналогично, можно распаковать\n",
    "# Кстати, если какой-то из выходов функции нам не нужен, принято использовать _ в качестве заглушки\n",
    "\n",
    "c, _ = func(3, 4)\n",
    "print(c, _)"
   ]
  },
  {
   "cell_type": "code",
   "execution_count": 49,
   "id": "e31bb21f",
   "metadata": {},
   "outputs": [
    {
     "ename": "ValueError",
     "evalue": "not enough values to unpack (expected 3, got 2)",
     "output_type": "error",
     "traceback": [
      "\u001b[0;31m---------------------------------------------------------------------------\u001b[0m",
      "\u001b[0;31mValueError\u001b[0m                                Traceback (most recent call last)",
      "\u001b[0;32m<ipython-input-49-3367d67aacc5>\u001b[0m in \u001b[0;36m<module>\u001b[0;34m\u001b[0m\n\u001b[1;32m      1\u001b[0m \u001b[0;31m# Распаковать тапл длины 2 в три переменные, к сожалению, не выйдет\u001b[0m\u001b[0;34m\u001b[0m\u001b[0;34m\u001b[0m\u001b[0;34m\u001b[0m\u001b[0m\n\u001b[1;32m      2\u001b[0m \u001b[0;34m\u001b[0m\u001b[0m\n\u001b[0;32m----> 3\u001b[0;31m \u001b[0mc\u001b[0m\u001b[0;34m,\u001b[0m \u001b[0m_\u001b[0m\u001b[0;34m,\u001b[0m \u001b[0m_\u001b[0m \u001b[0;34m=\u001b[0m \u001b[0mfunc\u001b[0m\u001b[0;34m(\u001b[0m\u001b[0;36m3\u001b[0m\u001b[0;34m,\u001b[0m \u001b[0;36m4\u001b[0m\u001b[0;34m)\u001b[0m\u001b[0;34m\u001b[0m\u001b[0;34m\u001b[0m\u001b[0m\n\u001b[0m",
      "\u001b[0;31mValueError\u001b[0m: not enough values to unpack (expected 3, got 2)"
     ]
    }
   ],
   "source": [
    "# Распаковать тапл длины 2 в три переменные, к сожалению, не выйдет\n",
    "\n",
    "c, _, _ = func(3, 4)"
   ]
  },
  {
   "cell_type": "code",
   "execution_count": 50,
   "id": "4f9abe9d",
   "metadata": {},
   "outputs": [
    {
     "ename": "ValueError",
     "evalue": "too many values to unpack (expected 2)",
     "output_type": "error",
     "traceback": [
      "\u001b[0;31m---------------------------------------------------------------------------\u001b[0m",
      "\u001b[0;31mValueError\u001b[0m                                Traceback (most recent call last)",
      "\u001b[0;32m<ipython-input-50-254e432bf38e>\u001b[0m in \u001b[0;36m<module>\u001b[0;34m\u001b[0m\n\u001b[1;32m      2\u001b[0m     \u001b[0;32mreturn\u001b[0m \u001b[0ma\u001b[0m \u001b[0;34m+\u001b[0m \u001b[0mb\u001b[0m\u001b[0;34m,\u001b[0m \u001b[0ma\u001b[0m \u001b[0;34m-\u001b[0m \u001b[0mb\u001b[0m\u001b[0;34m,\u001b[0m \u001b[0ma\u001b[0m \u001b[0;34m*\u001b[0m \u001b[0mb\u001b[0m\u001b[0;34m\u001b[0m\u001b[0;34m\u001b[0m\u001b[0m\n\u001b[1;32m      3\u001b[0m \u001b[0;34m\u001b[0m\u001b[0m\n\u001b[0;32m----> 4\u001b[0;31m \u001b[0m_\u001b[0m\u001b[0;34m,\u001b[0m \u001b[0m_\u001b[0m \u001b[0;34m=\u001b[0m \u001b[0mfunc\u001b[0m\u001b[0;34m(\u001b[0m\u001b[0;36m3\u001b[0m\u001b[0;34m,\u001b[0m \u001b[0;36m4\u001b[0m\u001b[0;34m)\u001b[0m\u001b[0;34m\u001b[0m\u001b[0;34m\u001b[0m\u001b[0m\n\u001b[0m",
      "\u001b[0;31mValueError\u001b[0m: too many values to unpack (expected 2)"
     ]
    }
   ],
   "source": [
    "def func(a, b):\n",
    "    return a + b, a - b, a * b\n",
    "\n",
    "_, _ = func(3, 4)\n"
   ]
  },
  {
   "cell_type": "markdown",
   "id": "7d1af8fd",
   "metadata": {},
   "source": [
    "### Базовая работа с файлами"
   ]
  },
  {
   "cell_type": "code",
   "execution_count": 51,
   "id": "24bec0fe",
   "metadata": {},
   "outputs": [
    {
     "name": "stdout",
     "output_type": "stream",
     "text": [
      "Lorem ipsum dolor sit amet, consectetur adipiscing elit. Maecenas vel malesuada enim, in efficitur nisl. Nam finibus tellus vel nunc egestas, et porttitor quam volutpat. Nam varius metus nec tellus faucibus molestie quis eget ante. Aliquam rutrum metus et enim dictum mollis. Etiam id libero odio. Curabitur fringilla tincidunt ligula, eu porttitor justo auctor in. Praesent lorem metus, convallis id vulputate non, pretium quis orci.\n",
      "\n",
      "Sed feugiat euismod eros sit amet vulputate. Duis sed tempus dolor. Donec ut dapibus elit, eget tincidunt quam. Nam urna libero, efficitur ac aliquet ut, elementum in erat. Cras massa est, posuere nec turpis eu, pharetra vestibulum enim. Maecenas facilisis tellus mi, vitae imperdiet lacus vestibulum ac. Fusce et metus et augue volutpat elementum.\n",
      "\n",
      "Etiam tempor ultrices mi et feugiat. Phasellus vehicula, lacus sit amet porttitor posuere, nisi diam suscipit nulla, ut congue elit dolor id ipsum. Ut pellentesque metus in commodo feugiat. Pellentesque vitae semper eros. Phasellus commodo ex in egestas finibus. Nullam tempor, ex nec varius egestas, sapien eros malesuada lectus, sit amet mattis velit erat a augue. Vivamus id dui non tellus ornare consectetur id vel lectus. Integer purus dolor, varius ac laoreet vel, ultricies ac risus. Donec quam tortor, congue in efficitur vel, molestie in sapien. Nulla facilisi. Quisque id facilisis urna, in iaculis augue. Etiam dolor metus, porta gravida rhoncus in, facilisis a ante.\n",
      "\n",
      "Mauris id varius mi. Proin turpis dolor, mattis vel pretium at, cursus in purus. Fusce a cursus ex. Etiam dictum fringilla sem, eu fringilla mauris lacinia eget. Nullam eget vehicula arcu. Curabitur sodales orci lacinia massa maximus interdum. Etiam nec facilisis neque, id interdum leo. Pellentesque nec nulla erat. Morbi vitae pellentesque dolor. Quisque molestie nibh vitae ex tempor, a blandit tellus pulvinar. Nunc accumsan neque tincidunt, maximus ipsum lacinia, condimentum est. Sed vel ultricies felis, quis convallis neque. Morbi consequat facilisis dignissim.\n",
      "\n",
      "Praesent consectetur egestas augue nec rhoncus. Suspendisse egestas neque a diam aliquam lacinia. Morbi blandit congue condimentum. Maecenas varius ante in massa vestibulum porta. Quisque pellentesque est sit amet dignissim pellentesque. Ut mollis bibendum rhoncus. Donec viverra lacinia elit quis luctus. Nulla sed felis luctus, cursus erat laoreet, accumsan odio. Cras accumsan arcu a ante pellentesque ullamcorper. Aliquam placerat nibh eu nulla pulvinar, non venenatis lacus porta. Duis ac sagittis tortor. \n"
     ]
    }
   ],
   "source": [
    "# Откроем test.txt на чтение ('r' от 'read')\n",
    "f = open(\"test.txt\", 'r')\n",
    "# Прочитаем весь файл разом в одну строку, тут же выведем её на экран\n",
    "print(f.read())\n",
    "# Закроем файл\n",
    "f.close()\n",
    "\n",
    "# Этот пример, конечно, не очень хорош - мы почему-то считаем, что файл точно откроется.\n",
    "# А если он не откроется, то этот код некрасиво упадёт.\n",
    "# Можно проверить, что вернул open, потом уже работать с файлом"
   ]
  },
  {
   "cell_type": "code",
   "execution_count": 52,
   "id": "c1a34384",
   "metadata": {},
   "outputs": [],
   "source": [
    "f1 = open('test1.txt', 'w')"
   ]
  },
  {
   "cell_type": "code",
   "execution_count": 53,
   "id": "1d87e6cc",
   "metadata": {},
   "outputs": [
    {
     "name": "stdout",
     "output_type": "stream",
     "text": [
      "Lorem ipsum dolor sit amet, consectetur adipiscing elit. Maecenas vel malesuada enim, in efficitur nisl. Nam finibus tellus vel nunc egestas, et porttitor quam volutpat. Nam varius metus nec tellus faucibus molestie quis eget ante. Aliquam rutrum metus et enim dictum mollis. Etiam id libero odio. Curabitur fringilla tincidunt ligula, eu porttitor justo auctor in. Praesent lorem metus, convallis id vulputate non, pretium quis orci.\n",
      "\n",
      "Sed feugiat euismod eros sit amet vulputate. Duis sed tempus dolor. Donec ut dapibus elit, eget tincidunt quam. Nam urna libero, efficitur ac aliquet ut, elementum in erat. Cras massa est, posuere nec turpis eu, pharetra vestibulum enim. Maecenas facilisis tellus mi, vitae imperdiet lacus vestibulum ac. Fusce et metus et augue volutpat elementum.\n",
      "\n",
      "Etiam tempor ultrices mi et feugiat. Phasellus vehicula, lacus sit amet porttitor posuere, nisi diam suscipit nulla, ut congue elit dolor id ipsum. Ut pellentesque metus in commodo feugiat. Pellentesque vitae semper eros. Phasellus commodo ex in egestas finibus. Nullam tempor, ex nec varius egestas, sapien eros malesuada lectus, sit amet mattis velit erat a augue. Vivamus id dui non tellus ornare consectetur id vel lectus. Integer purus dolor, varius ac laoreet vel, ultricies ac risus. Donec quam tortor, congue in efficitur vel, molestie in sapien. Nulla facilisi. Quisque id facilisis urna, in iaculis augue. Etiam dolor metus, porta gravida rhoncus in, facilisis a ante.\n",
      "\n",
      "Mauris id varius mi. Proin turpis dolor, mattis vel pretium at, cursus in purus. Fusce a cursus ex. Etiam dictum fringilla sem, eu fringilla mauris lacinia eget. Nullam eget vehicula arcu. Curabitur sodales orci lacinia massa maximus interdum. Etiam nec facilisis neque, id interdum leo. Pellentesque nec nulla erat. Morbi vitae pellentesque dolor. Quisque molestie nibh vitae ex tempor, a blandit tellus pulvinar. Nunc accumsan neque tincidunt, maximus ipsum lacinia, condimentum est. Sed vel ultricies felis, quis convallis neque. Morbi consequat facilisis dignissim.\n",
      "\n",
      "Praesent consectetur egestas augue nec rhoncus. Suspendisse egestas neque a diam aliquam lacinia. Morbi blandit congue condimentum. Maecenas varius ante in massa vestibulum porta. Quisque pellentesque est sit amet dignissim pellentesque. Ut mollis bibendum rhoncus. Donec viverra lacinia elit quis luctus. Nulla sed felis luctus, cursus erat laoreet, accumsan odio. Cras accumsan arcu a ante pellentesque ullamcorper. Aliquam placerat nibh eu nulla pulvinar, non venenatis lacus porta. Duis ac sagittis tortor. \n"
     ]
    }
   ],
   "source": [
    "# Но обычно в таких целях любят использовать context manager:\n",
    "\n",
    "with open(\"test.txt\", 'r') as f:\n",
    "    print(f.read())\n",
    "    \n",
    "\n",
    "# Мы пытаемся захватить ресурс (открыть файл в данном случае)\n",
    "# и выполняем тело блока только в том случае, если захватить ресурс удалось.\n",
    "# В конце блока ресурс освободится (в данном случае файл закроется)."
   ]
  },
  {
   "cell_type": "markdown",
   "id": "f71905dc",
   "metadata": {},
   "source": [
    "### Exceptions"
   ]
  },
  {
   "cell_type": "code",
   "execution_count": 54,
   "id": "0a61e08f",
   "metadata": {},
   "outputs": [
    {
     "name": "stdout",
     "output_type": "stream",
     "text": [
      "1 2 dog 4\n"
     ]
    },
    {
     "ename": "ValueError",
     "evalue": "invalid literal for int() with base 10: 'dog'",
     "output_type": "error",
     "traceback": [
      "\u001b[0;31m---------------------------------------------------------------------------\u001b[0m",
      "\u001b[0;31mValueError\u001b[0m                                Traceback (most recent call last)",
      "\u001b[0;32m<ipython-input-54-3c1c575d6fac>\u001b[0m in \u001b[0;36m<module>\u001b[0;34m\u001b[0m\n\u001b[1;32m      1\u001b[0m \u001b[0;31m# Что будет, если скормить на вход такой конструкции что-то принципиально не конвертируемое в int?\u001b[0m\u001b[0;34m\u001b[0m\u001b[0;34m\u001b[0m\u001b[0;34m\u001b[0m\u001b[0m\n\u001b[0;32m----> 2\u001b[0;31m \u001b[0ma\u001b[0m \u001b[0;34m=\u001b[0m \u001b[0;34m[\u001b[0m\u001b[0mint\u001b[0m\u001b[0;34m(\u001b[0m\u001b[0ms\u001b[0m\u001b[0;34m)\u001b[0m \u001b[0;32mfor\u001b[0m \u001b[0ms\u001b[0m \u001b[0;32min\u001b[0m \u001b[0minput\u001b[0m\u001b[0;34m(\u001b[0m\u001b[0;34m)\u001b[0m\u001b[0;34m.\u001b[0m\u001b[0msplit\u001b[0m\u001b[0;34m(\u001b[0m\u001b[0;34m)\u001b[0m\u001b[0;34m]\u001b[0m\u001b[0;34m\u001b[0m\u001b[0;34m\u001b[0m\u001b[0m\n\u001b[0m",
      "\u001b[0;32m<ipython-input-54-3c1c575d6fac>\u001b[0m in \u001b[0;36m<listcomp>\u001b[0;34m(.0)\u001b[0m\n\u001b[1;32m      1\u001b[0m \u001b[0;31m# Что будет, если скормить на вход такой конструкции что-то принципиально не конвертируемое в int?\u001b[0m\u001b[0;34m\u001b[0m\u001b[0;34m\u001b[0m\u001b[0;34m\u001b[0m\u001b[0m\n\u001b[0;32m----> 2\u001b[0;31m \u001b[0ma\u001b[0m \u001b[0;34m=\u001b[0m \u001b[0;34m[\u001b[0m\u001b[0mint\u001b[0m\u001b[0;34m(\u001b[0m\u001b[0ms\u001b[0m\u001b[0;34m)\u001b[0m \u001b[0;32mfor\u001b[0m \u001b[0ms\u001b[0m \u001b[0;32min\u001b[0m \u001b[0minput\u001b[0m\u001b[0;34m(\u001b[0m\u001b[0;34m)\u001b[0m\u001b[0;34m.\u001b[0m\u001b[0msplit\u001b[0m\u001b[0;34m(\u001b[0m\u001b[0;34m)\u001b[0m\u001b[0;34m]\u001b[0m\u001b[0;34m\u001b[0m\u001b[0;34m\u001b[0m\u001b[0m\n\u001b[0m",
      "\u001b[0;31mValueError\u001b[0m: invalid literal for int() with base 10: 'dog'"
     ]
    }
   ],
   "source": [
    "# Что будет, если скормить на вход такой конструкции что-то принципиально не конвертируемое в int? \n",
    "a = [int(s) for s in input().split()]"
   ]
  },
  {
   "cell_type": "code",
   "execution_count": 57,
   "id": "1df0bcae",
   "metadata": {},
   "outputs": [
    {
     "name": "stdout",
     "output_type": "stream",
     "text": [
      "12 dog\n",
      "gotcha\n"
     ]
    }
   ],
   "source": [
    "# Хотелось бы в таких случаях не умирать на месте, а иметь шанс обработать ошибку.\n",
    "# Для этого нужен try и ловля исключений, как и в других языках.\n",
    "# Если попробовать скормить на вход строки вместо int-ов вот такой конструкции, то она не упадёт,\n",
    "# а попадёт в блок except, в котором можно написать свою логику.\n",
    "try:\n",
    "    a = [int(s) for s in input().split()]\n",
    "except Exception as e:\n",
    "    print('gotcha')\n",
    "    pass # pass - служебная конструкция со смыслом \"этот блок пустой, и это так задумано\"\n"
   ]
  },
  {
   "cell_type": "markdown",
   "id": "fa070b9a",
   "metadata": {},
   "source": [
    "### Глобальные переменные "
   ]
  },
  {
   "cell_type": "code",
   "execution_count": 58,
   "id": "dd7e1f7f",
   "metadata": {},
   "outputs": [
    {
     "name": "stdout",
     "output_type": "stream",
     "text": [
      "Initial value 1\n",
      "Inside func1 1\n",
      "Before func2 call 1\n",
      "Inside func2 10\n",
      "After func2 call 1\n",
      "Before func3 call 1\n",
      "Inside func3 10\n",
      "After func3 call 10\n"
     ]
    }
   ],
   "source": [
    "# Пусть у нас есть глобальная переменная.\n",
    "# Это всегда так себе идея. Но пусть есть.\n",
    "TEST = 1\n",
    "\n",
    "# Эта функция хочет читать глобальную переменную - имеет право.\n",
    "def func1():\n",
    "    print(\"Inside func1\", TEST)\n",
    "\n",
    "# Эта функция хочет писать в глобальную переменную.\n",
    "# И как будто ей дали это сделать. Но нет.\n",
    "def func2():\n",
    "    TEST = 10\n",
    "    print(\"Inside func2\", TEST)\n",
    "\n",
    "# А вот эта функция правда сможет писать в глобальную переменную.\n",
    "def func3():\n",
    "    global TEST\n",
    "    TEST = 10\n",
    "    print(\"Inside func3\", TEST)\n",
    "\n",
    "\n",
    "print(\"Initial value\", TEST)\n",
    "func1()\n",
    "\n",
    "print(\"Before func2 call\", TEST)\n",
    "func2()\n",
    "print(\"After func2 call\", TEST)\n",
    "\n",
    "print(\"Before func3 call\", TEST)\n",
    "func3()\n",
    "print(\"After func3 call\", TEST)"
   ]
  },
  {
   "cell_type": "markdown",
   "id": "3b3f9e33",
   "metadata": {},
   "source": [
    "Использовать глобальные переменные в Python таким образом - дурной тон. Если вы хотите честным образом организовать какие-то константы, которые принципиально никто не должен трогать - либо определяйте их в отдельном файле, либо заворачивайте в кастомный класс, который будет выкидывать исключения в случае доступа к нежелательному аттрибуту. К сожалению, строгого private в питоне нет, поэтому дать тотальный запрет на изменение невозможно. Но лучше возмущаться как можно громче - а вдруг услышат?"
   ]
  },
  {
   "cell_type": "code",
   "execution_count": 59,
   "id": "5e47d9c7",
   "metadata": {},
   "outputs": [],
   "source": [
    "def fib_recursion(N):\n",
    "    if N <= 1: \n",
    "        return 1\n",
    "    else:\n",
    "        return fib_recursion(N-1) + fib_recursion(N-2)"
   ]
  },
  {
   "cell_type": "code",
   "execution_count": null,
   "id": "83330160",
   "metadata": {},
   "outputs": [],
   "source": []
  },
  {
   "cell_type": "code",
   "execution_count": 60,
   "id": "6d56d75f",
   "metadata": {},
   "outputs": [],
   "source": [
    "def fib_cycle(N):\n",
    "    a, b = 0, 1\n",
    "    for i in range(N): b, a = b + a, b\n",
    "    return b"
   ]
  },
  {
   "cell_type": "code",
   "execution_count": 61,
   "id": "0930e072",
   "metadata": {},
   "outputs": [
    {
     "name": "stdout",
     "output_type": "stream",
     "text": [
      "CPU times: user 3.67 ms, sys: 0 ns, total: 3.67 ms\n",
      "Wall time: 2.89 ms\n"
     ]
    },
    {
     "data": {
      "text/plain": [
       "6276302800488957086035253108349684055478528702736457439025824448927937256811663264475883711527806250329984690249846819800648580083040107584710332687596562185073640422286799239932615797105974710857095487342820351307477141875012176874307156016229965832589137779724973854362777629878229505500260477136108363709090010421536915488632339240756987974122598603591920306874926755600361865354330444681915154695741851960071089944015319300128574107662757054790648152751366475529121877212785489665101733755898580317984402963873738187000120737824193162011399200547424034440836239726275765901190914513013217132050988064832024783370583789324109052449717186857327239783000020791777804503930439875068662687670678802914269784817022567088069496231111407908953313902398529655056082228598715882365779469902465675715699187225655878240668599547496218159297881601061923195562143932693324644219266564617042934227893371179832389642895285401263875342640468017378925921483580111278055044254198382265567395946431803304304326865077742925818757370691726168228648841319231470626"
      ]
     },
     "execution_count": 61,
     "metadata": {},
     "output_type": "execute_result"
    }
   ],
   "source": [
    "%%time\n",
    "\n",
    "fib_cycle(5000)"
   ]
  },
  {
   "cell_type": "code",
   "execution_count": 70,
   "id": "2a51f9a2",
   "metadata": {},
   "outputs": [
    {
     "name": "stdout",
     "output_type": "stream",
     "text": [
      "CPU times: user 622 µs, sys: 0 ns, total: 622 µs\n",
      "Wall time: 634 µs\n"
     ]
    },
    {
     "data": {
      "text/plain": [
       "987"
      ]
     },
     "execution_count": 70,
     "metadata": {},
     "output_type": "execute_result"
    }
   ],
   "source": [
    "%%time\n",
    "\n",
    "fib_recursion(15)"
   ]
  },
  {
   "cell_type": "code",
   "execution_count": 71,
   "id": "ab7346f8",
   "metadata": {},
   "outputs": [],
   "source": [
    "from collections import Counter\n",
    "\n",
    "test_string = 'a quick brown fox jumps over the lazy dog'"
   ]
  },
  {
   "cell_type": "code",
   "execution_count": 72,
   "id": "e4b8a250",
   "metadata": {},
   "outputs": [],
   "source": [
    "cnt = Counter(test_string)"
   ]
  },
  {
   "cell_type": "code",
   "execution_count": 73,
   "id": "b66ba64d",
   "metadata": {},
   "outputs": [
    {
     "data": {
      "text/plain": [
       "27"
      ]
     },
     "execution_count": 73,
     "metadata": {},
     "output_type": "execute_result"
    }
   ],
   "source": [
    "len(cnt)"
   ]
  },
  {
   "cell_type": "code",
   "execution_count": 74,
   "id": "7d621ff1",
   "metadata": {},
   "outputs": [],
   "source": [
    "f = lambda x, y, z: x + y + z"
   ]
  },
  {
   "cell_type": "code",
   "execution_count": 75,
   "id": "7b6e45ba",
   "metadata": {},
   "outputs": [],
   "source": [
    "def nonacchi(N):\n",
    "    a = (0,) * 8 + (1,)\n",
    "    for i in range(N - 1):\n",
    "        a = a[1:] + (sum(a),)\n",
    "        print(a)\n",
    "    return a"
   ]
  },
  {
   "cell_type": "code",
   "execution_count": 76,
   "id": "3862a7c0",
   "metadata": {},
   "outputs": [
    {
     "name": "stdout",
     "output_type": "stream",
     "text": [
      "(0, 0, 0, 0, 0, 0, 0, 1, 1)\n",
      "(0, 0, 0, 0, 0, 0, 1, 1, 2)\n",
      "(0, 0, 0, 0, 0, 1, 1, 2, 4)\n",
      "(0, 0, 0, 0, 1, 1, 2, 4, 8)\n",
      "(0, 0, 0, 1, 1, 2, 4, 8, 16)\n",
      "(0, 0, 1, 1, 2, 4, 8, 16, 32)\n",
      "(0, 1, 1, 2, 4, 8, 16, 32, 64)\n",
      "(1, 1, 2, 4, 8, 16, 32, 64, 128)\n",
      "(1, 2, 4, 8, 16, 32, 64, 128, 256)\n"
     ]
    },
    {
     "data": {
      "text/plain": [
       "(1, 2, 4, 8, 16, 32, 64, 128, 256)"
      ]
     },
     "execution_count": 76,
     "metadata": {},
     "output_type": "execute_result"
    }
   ],
   "source": [
    "nonacchi(10)"
   ]
  },
  {
   "cell_type": "code",
   "execution_count": null,
   "id": "cbce6f67",
   "metadata": {},
   "outputs": [],
   "source": []
  }
 ],
 "metadata": {
  "kernelspec": {
   "display_name": "Python 3",
   "language": "python",
   "name": "python3"
  },
  "language_info": {
   "codemirror_mode": {
    "name": "ipython",
    "version": 3
   },
   "file_extension": ".py",
   "mimetype": "text/x-python",
   "name": "python",
   "nbconvert_exporter": "python",
   "pygments_lexer": "ipython3",
   "version": "3.6.9"
  }
 },
 "nbformat": 4,
 "nbformat_minor": 5
}
