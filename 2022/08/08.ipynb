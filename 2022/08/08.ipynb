{
 "cells": [
  {
   "cell_type": "markdown",
   "id": "7255a478",
   "metadata": {},
   "source": [
    "# Numpy"
   ]
  },
  {
   "cell_type": "code",
   "execution_count": 28,
   "id": "958e0f0f",
   "metadata": {},
   "outputs": [
    {
     "name": "stdout",
     "output_type": "stream",
     "text": [
      "Array data type: int64\n",
      "Array size :  6\n",
      "Array shape:  (2, 3)\n"
     ]
    }
   ],
   "source": [
    "import numpy as np\n",
    "\n",
    "# так мы можем создать numpy-массив из тапла таплов\n",
    "\n",
    "a = np.array([(1,2,3),(4,5,6)])\n",
    "\n",
    "print(\"Array data type:\", a.dtype)\n",
    "print(\"Array size : \", a.size)\n",
    "print(\"Array shape: \", a.shape)"
   ]
  },
  {
   "cell_type": "code",
   "execution_count": 29,
   "id": "c696d96b",
   "metadata": {},
   "outputs": [
    {
     "name": "stdout",
     "output_type": "stream",
     "text": [
      "Array size in bytes:  8\n"
     ]
    }
   ],
   "source": [
    "print(\"Array size in bytes: \", a.itemsize)"
   ]
  },
  {
   "cell_type": "code",
   "execution_count": 30,
   "id": "c69bc41b",
   "metadata": {},
   "outputs": [
    {
     "name": "stdout",
     "output_type": "stream",
     "text": [
      "Array size in bytes:  2\n"
     ]
    }
   ],
   "source": [
    "b = a.astype(np.int16)\n",
    "print(\"Array size in bytes: \", b.itemsize)"
   ]
  },
  {
   "cell_type": "code",
   "execution_count": 31,
   "id": "f9e839a9",
   "metadata": {},
   "outputs": [
    {
     "name": "stdout",
     "output_type": "stream",
     "text": [
      "[[1. 2. 3.]\n",
      " [4. 5. 6.]]\n",
      "Dims: 2\n",
      "Shape: (2, 3)\n"
     ]
    }
   ],
   "source": [
    "a = np.array([(1,2,3),(4,5,6)], dtype=np.float64)\n",
    "\n",
    "print(a)\n",
    "print(\"Dims:\", a.ndim)\n",
    "print(\"Shape:\", a.shape)"
   ]
  },
  {
   "cell_type": "code",
   "execution_count": 32,
   "id": "eab08c7c",
   "metadata": {},
   "outputs": [
    {
     "name": "stdout",
     "output_type": "stream",
     "text": [
      "[[1. 2.]\n",
      " [3. 4.]\n",
      " [5. 6.]]\n",
      "Dims: 2\n",
      "Shape: (3, 2)\n"
     ]
    }
   ],
   "source": [
    "a = a.reshape(3, 2)\n",
    "\n",
    "print(a)\n",
    "print(\"Dims:\", a.ndim)\n",
    "print(\"Shape:\", a.shape)"
   ]
  },
  {
   "cell_type": "code",
   "execution_count": 38,
   "id": "e1accf21",
   "metadata": {},
   "outputs": [
    {
     "data": {
      "text/plain": [
       "array([1., 2., 3., 4., 5., 6.])"
      ]
     },
     "execution_count": 38,
     "metadata": {},
     "output_type": "execute_result"
    }
   ],
   "source": [
    "# для того, чтобы \"расплющить\" массив, есть функция ravel\n",
    "# по дефолту он отрабатывает в row-major манере \n",
    "# т.е, индекс младшей оси меняется медленнее всего\n",
    "# индекс старшей - быстрее всего\n",
    "\n",
    "a.ravel()"
   ]
  },
  {
   "cell_type": "code",
   "execution_count": 39,
   "id": "c2f60209",
   "metadata": {},
   "outputs": [
    {
     "data": {
      "text/plain": [
       "array([1., 3., 5., 2., 4., 6.])"
      ]
     },
     "execution_count": 39,
     "metadata": {},
     "output_type": "execute_result"
    }
   ],
   "source": [
    "# можно вызвать ravel() в стиле фортрана\n",
    "\n",
    "a.ravel(order='F')"
   ]
  },
  {
   "cell_type": "markdown",
   "id": "d68f9092",
   "metadata": {},
   "source": [
    "Индексация в numpy - штука весьма гибкая. Подробнее читать здесь - https://numpy.org/doc/stable/user/basics.indexing.html"
   ]
  },
  {
   "cell_type": "code",
   "execution_count": 41,
   "id": "d99ee179",
   "metadata": {},
   "outputs": [
    {
     "data": {
      "text/plain": [
       "array([1, 3, 5])"
      ]
     },
     "execution_count": 41,
     "metadata": {},
     "output_type": "execute_result"
    }
   ],
   "source": [
    "# индексация слайсом\n",
    "x = np.array([0, 1, 2, 3, 4, 5, 6, 7, 8, 9])\n",
    "\n",
    "x[1:7:2]"
   ]
  },
  {
   "cell_type": "code",
   "execution_count": 42,
   "id": "5f9faf5a",
   "metadata": {},
   "outputs": [
    {
     "data": {
      "text/plain": [
       "array([8, 9])"
      ]
     },
     "execution_count": 42,
     "metadata": {},
     "output_type": "execute_result"
    }
   ],
   "source": [
    "x[-2:10]"
   ]
  },
  {
   "cell_type": "code",
   "execution_count": 43,
   "id": "7ccb07c0",
   "metadata": {},
   "outputs": [
    {
     "data": {
      "text/plain": [
       "array([7, 6, 5, 4])"
      ]
     },
     "execution_count": 43,
     "metadata": {},
     "output_type": "execute_result"
    }
   ],
   "source": [
    "x[-3:3:-1]"
   ]
  },
  {
   "cell_type": "code",
   "execution_count": 44,
   "id": "59934973",
   "metadata": {},
   "outputs": [
    {
     "data": {
      "text/plain": [
       "(2, 3, 1)"
      ]
     },
     "execution_count": 44,
     "metadata": {},
     "output_type": "execute_result"
    }
   ],
   "source": [
    "x = np.array([[[1],[2],[3]], [[4],[5],[6]]])\n",
    "x.shape"
   ]
  },
  {
   "cell_type": "code",
   "execution_count": 46,
   "id": "fae0077e",
   "metadata": {},
   "outputs": [
    {
     "data": {
      "text/plain": [
       "array([[[4],\n",
       "        [5],\n",
       "        [6]]])"
      ]
     },
     "execution_count": 46,
     "metadata": {},
     "output_type": "execute_result"
    }
   ],
   "source": [
    "x[1:2]"
   ]
  },
  {
   "cell_type": "code",
   "execution_count": 59,
   "id": "0c1dbdfa",
   "metadata": {},
   "outputs": [],
   "source": [
    "# так можно создать массив размерности 10x10x10x10\n",
    "\n",
    "x = np.random.normal(0., 1., ((10, 10, 10, 10)))"
   ]
  },
  {
   "cell_type": "code",
   "execution_count": 60,
   "id": "27ad4a92",
   "metadata": {},
   "outputs": [
    {
     "data": {
      "text/plain": [
       "False"
      ]
     },
     "execution_count": 60,
     "metadata": {},
     "output_type": "execute_result"
    }
   ],
   "source": [
    "# а так убедиться, что все элементы такой разности равны нулю\n",
    "\n",
    "(x[2, 3, 4:5, 6:8] -  x[2][3][4:5, 6:8]).any()"
   ]
  },
  {
   "cell_type": "code",
   "execution_count": 61,
   "id": "109c2629",
   "metadata": {},
   "outputs": [
    {
     "data": {
      "text/plain": [
       "(2, 3, 1)"
      ]
     },
     "execution_count": 61,
     "metadata": {},
     "output_type": "execute_result"
    }
   ],
   "source": [
    "# следующие тулзы нужны для того, чтобы можно было легко мэтчить\n",
    "# размерности массивов при использовании векторной арифметики\n",
    "\n",
    "x = np.array([[[1],[2],[3]], [[4],[5],[6]]])\n",
    "x.shape"
   ]
  },
  {
   "cell_type": "code",
   "execution_count": 64,
   "id": "fec95c63",
   "metadata": {},
   "outputs": [
    {
     "data": {
      "text/plain": [
       "array([[1, 2, 3],\n",
       "       [4, 5, 6]])"
      ]
     },
     "execution_count": 64,
     "metadata": {},
     "output_type": "execute_result"
    }
   ],
   "source": [
    "# такое троеточие называется эллипсом, и быть оно может быть только одно в индексе\n",
    "\n",
    "x[..., 0]"
   ]
  },
  {
   "cell_type": "code",
   "execution_count": 65,
   "id": "b65961c4",
   "metadata": {},
   "outputs": [
    {
     "data": {
      "text/plain": [
       "array([[1, 2, 3],\n",
       "       [4, 5, 6]])"
      ]
     },
     "execution_count": 65,
     "metadata": {},
     "output_type": "execute_result"
    }
   ],
   "source": [
    "x[:, :, 0]"
   ]
  },
  {
   "cell_type": "code",
   "execution_count": 68,
   "id": "494db5a6",
   "metadata": {},
   "outputs": [
    {
     "data": {
      "text/plain": [
       "array([[[[1],\n",
       "         [2],\n",
       "         [3]]],\n",
       "\n",
       "\n",
       "       [[[4],\n",
       "         [5],\n",
       "         [6]]]])"
      ]
     },
     "execution_count": 68,
     "metadata": {},
     "output_type": "execute_result"
    }
   ],
   "source": [
    "# объект newaxis - это псевдоним None. \n",
    "# Его добавление в индекс повышает размерность массива на единицу\n",
    "\n",
    "x[:, np.newaxis, :, :]"
   ]
  },
  {
   "cell_type": "code",
   "execution_count": 69,
   "id": "0b7b05a8",
   "metadata": {},
   "outputs": [
    {
     "data": {
      "text/plain": [
       "array([[[[1],\n",
       "         [2],\n",
       "         [3]]],\n",
       "\n",
       "\n",
       "       [[[4],\n",
       "         [5],\n",
       "         [6]]]])"
      ]
     },
     "execution_count": 69,
     "metadata": {},
     "output_type": "execute_result"
    }
   ],
   "source": [
    "x[:, None, :, :]"
   ]
  },
  {
   "cell_type": "markdown",
   "id": "21ff28fe",
   "metadata": {},
   "source": [
    "Также есть индексация numpy массивами, или advanced indexing. Там чуть сложнее, и нам на практике вряд ли встретится"
   ]
  },
  {
   "cell_type": "code",
   "execution_count": 75,
   "id": "f6b9fc6c",
   "metadata": {},
   "outputs": [],
   "source": [
    "# каждый раз при использовании индексов возвращается ссылка на исходный\n",
    "# массив с перестроенной индексацией\n",
    "# т.е., при присваивании мы будем менять оригинальный массив\n",
    "\n",
    "x = np.zeros((5, 5))\n",
    "y = x[1:-1, 1:-1]\n",
    "y[1, 1] = 10"
   ]
  },
  {
   "cell_type": "code",
   "execution_count": 76,
   "id": "cf9024e1",
   "metadata": {},
   "outputs": [
    {
     "data": {
      "text/plain": [
       "array([[ 0.,  0.,  0.,  0.,  0.],\n",
       "       [ 0.,  0.,  0.,  0.,  0.],\n",
       "       [ 0.,  0., 10.,  0.,  0.],\n",
       "       [ 0.,  0.,  0.,  0.,  0.],\n",
       "       [ 0.,  0.,  0.,  0.,  0.]])"
      ]
     },
     "execution_count": 76,
     "metadata": {},
     "output_type": "execute_result"
    }
   ],
   "source": [
    "x"
   ]
  },
  {
   "cell_type": "code",
   "execution_count": 80,
   "id": "1e9f84fd",
   "metadata": {},
   "outputs": [],
   "source": [
    "# для избежания подобного поведения есть функция copy\n",
    "\n",
    "x = np.zeros((5, 5))\n",
    "y = np.copy(x[1:-1, 1:-1])\n",
    "y[1, 1] = 10"
   ]
  },
  {
   "cell_type": "code",
   "execution_count": 81,
   "id": "56781ada",
   "metadata": {},
   "outputs": [
    {
     "data": {
      "text/plain": [
       "-10.0"
      ]
     },
     "execution_count": 81,
     "metadata": {},
     "output_type": "execute_result"
    }
   ],
   "source": [
    "x[1:-1, 1:-1][1, 1] - y[1, 1] "
   ]
  },
  {
   "cell_type": "markdown",
   "id": "7d36b06e",
   "metadata": {},
   "source": [
    "#### Стандартные способы инициализации"
   ]
  },
  {
   "cell_type": "code",
   "execution_count": 83,
   "id": "25823027",
   "metadata": {},
   "outputs": [
    {
     "name": "stdout",
     "output_type": "stream",
     "text": [
      "arange: [0 1 2 3 4 5 6]\n",
      "random: [[0.97752152 0.89106195 0.8444315 ]]\n",
      "ones: [[1. 1. 1.]]\n",
      "zeros: [[0. 0. 0.]]\n",
      "full: [[42 42 42]]\n",
      "linspace: [ 0. 14. 28. 42.]\n"
     ]
    }
   ],
   "source": [
    "print(\"arange:\", np.arange(7))\n",
    "print(\"random:\", np.random.random((1,3)))\n",
    "print(\"ones:\", np.ones((1,3)))\n",
    "print(\"zeros:\", np.zeros((1,3)))\n",
    "print(\"full:\", np.full((1,3), 42))\n",
    "print(\"linspace:\", np.linspace(0, 42, 4))"
   ]
  },
  {
   "cell_type": "markdown",
   "id": "1d1d4cfa",
   "metadata": {},
   "source": [
    "#### Агрегатные функции "
   ]
  },
  {
   "cell_type": "code",
   "execution_count": 86,
   "id": "51b65e1a",
   "metadata": {},
   "outputs": [
    {
     "name": "stdout",
     "output_type": "stream",
     "text": [
      "min: 1.0\n",
      "max: 6.0\n",
      "sum: 21.0\n",
      "mean: 3.5\n",
      "axis sum: [ 6. 15.]\n",
      "axis mean: [2. 5.]\n"
     ]
    }
   ],
   "source": [
    "a = np.array([(3,2,1),(4,5,6)], dtype=np.float64)\n",
    "\n",
    "print(\"min:\", a.min())\n",
    "print(\"max:\", a.max())\n",
    "print(\"sum:\", a.sum())\n",
    "print(\"mean:\", a.mean())\n",
    "print(\"axis sum:\", a.sum(axis=1))\n",
    "print(\"axis mean:\", a.mean(axis=1))"
   ]
  },
  {
   "cell_type": "markdown",
   "id": "a4814ab1",
   "metadata": {},
   "source": [
    "#### Stacking"
   ]
  },
  {
   "cell_type": "code",
   "execution_count": 91,
   "id": "c6a2127f",
   "metadata": {},
   "outputs": [
    {
     "name": "stdout",
     "output_type": "stream",
     "text": [
      "[[ 1.  2.  3. 10. 20. 30.]\n",
      " [ 4.  5.  6. 40. 50. 60.]]\n",
      "[[ 1.  2.  3.]\n",
      " [ 4.  5.  6.]\n",
      " [10. 20. 30.]\n",
      " [40. 50. 60.]]\n"
     ]
    }
   ],
   "source": [
    "import numpy as np\n",
    "\n",
    "a = np.array([(1,2,3),(4,5,6)], dtype=np.float64)\n",
    "b = np.array([(10,20,30),(40,50,60)], dtype=np.float64)\n",
    "\n",
    "print(np.hstack((a, b)))\n",
    "print(np.vstack((a, b)))"
   ]
  },
  {
   "cell_type": "code",
   "execution_count": 92,
   "id": "960a54c5",
   "metadata": {},
   "outputs": [
    {
     "name": "stdout",
     "output_type": "stream",
     "text": [
      "[[1. 2. 3. 1. 2. 3. 1. 2. 3.]\n",
      " [4. 5. 6. 4. 5. 6. 4. 5. 6.]\n",
      " [1. 2. 3. 1. 2. 3. 1. 2. 3.]\n",
      " [4. 5. 6. 4. 5. 6. 4. 5. 6.]]\n"
     ]
    }
   ],
   "source": [
    "print(np.tile(a, (2, 3)))"
   ]
  },
  {
   "cell_type": "code",
   "execution_count": 93,
   "id": "cfc1ef21",
   "metadata": {},
   "outputs": [
    {
     "name": "stdout",
     "output_type": "stream",
     "text": [
      "[[1. 2. 3.]\n",
      " [1. 2. 3.]\n",
      " [4. 5. 6.]\n",
      " [4. 5. 6.]]\n",
      "[[1. 1. 1. 2. 2. 2. 3. 3. 3.]\n",
      " [4. 4. 4. 5. 5. 5. 6. 6. 6.]]\n"
     ]
    }
   ],
   "source": [
    "print(np.repeat(a, 2, axis=0))\n",
    "print(np.repeat(a, 3, axis=1))"
   ]
  },
  {
   "cell_type": "code",
   "execution_count": 94,
   "id": "04ed6a4e",
   "metadata": {},
   "outputs": [
    {
     "data": {
      "image/png": "[encoded data removed]",
      "text/plain": [
       "<Figure size 432x288 with 1 Axes>"
      ]
     },
     "metadata": {
      "needs_background": "light"
     },
     "output_type": "display_data"
    }
   ],
   "source": [
    "import numpy as np\n",
    "import matplotlib.pyplot as plt\n",
    "\n",
    "x = np.linspace(0, 3*np.pi, 100)\n",
    "y = 42 * np.sin(x)\n",
    "\n",
    "fig, ax = plt.subplots()\n",
    "ax.plot(x, y)\n",
    "ax.grid()\n",
    "plt.show()"
   ]
  },
  {
   "cell_type": "code",
   "execution_count": null,
   "id": "d1fde2ce",
   "metadata": {},
   "outputs": [],
   "source": []
  }
 ],
 "metadata": {
  "kernelspec": {
   "display_name": "Python 3",
   "language": "python",
   "name": "python3"
  },
  "language_info": {
   "codemirror_mode": {
    "name": "ipython",
    "version": 3
   },
   "file_extension": ".py",
   "mimetype": "text/x-python",
   "name": "python",
   "nbconvert_exporter": "python",
   "pygments_lexer": "ipython3",
   "version": "3.6.9"
  }
 },
 "nbformat": 4,
 "nbformat_minor": 5
}
