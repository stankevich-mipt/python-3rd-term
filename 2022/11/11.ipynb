{
 "cells": [
  {
   "cell_type": "markdown",
   "id": "6cc5b12b-d394-4480-bcaa-19424e82fdea",
   "metadata": {},
   "source": [
    "# Cython "
   ]
  },
  {
   "cell_type": "markdown",
   "id": "fba13fdf-7510-4810-9f27-d7db169b8ff4",
   "metadata": {},
   "source": [
    "### Cython - язык программирования, предназначенный для написания C-расширений для языка Python. \n",
    "Ключевая идея, которая стоит за Cython - трансляция исходного кода, написанного на слегка модифицированном Python  \n",
    "в оптимизированный кода на C\\C++, и его компиляция в виде расширений для Python  \n",
    "Таким образом можно писать высокопроизводительные программы, пользуясь почти всеми удобствами, которые предоставляет Python"
   ]
  },
  {
   "cell_type": "code",
   "execution_count": 1,
   "id": "0163edc5-8ea9-46cf-b6d4-761bf67a0353",
   "metadata": {},
   "outputs": [],
   "source": [
    "# установить cython можно с помощью pip\n",
    "# ! pip install cython"
   ]
  },
  {
   "cell_type": "markdown",
   "id": "67fb39f4-bb1c-4b48-ba4c-97d246a6cce2",
   "metadata": {},
   "source": [
    "### Hello, World! для Cython\n",
    "\n",
    "В файле 01/hello.pyx содержится hello world на Python. Чтобы скомпилировать из него расширение для интерпретатора, нужно воспользоваться  \n",
    "следующей командой\n"
   ]
  },
  {
   "cell_type": "code",
   "execution_count": 2,
   "id": "6872959e-22c3-484c-8062-e383da10b4ca",
   "metadata": {},
   "outputs": [
    {
     "name": "stderr",
     "output_type": "stream",
     "text": [
      "D:\\Anaconda\\lib\\site-packages\\setuptools\\_distutils\\dist.py:265: UserWarning: Unknown distribution option: 'language_level'\n",
      "  warnings.warn(msg)\n",
      "--- Logging error ---\n",
      "Traceback (most recent call last):\n",
      "  File \"D:\\Anaconda\\lib\\logging\\__init__.py\", line 1086, in emit\n",
      "    stream.write(msg + self.terminator)\n",
      "ValueError: underlying buffer has been detached\n",
      "Call stack:\n",
      "  File \"D:\\Projects\\python-3rd-term\\2022\\11\\hello_world\\setup.py\", line 4, in <module>\n",
      "    setup(\n",
      "  File \"D:\\Anaconda\\lib\\site-packages\\setuptools\\__init__.py\", line 87, in setup\n",
      "    return distutils.core.setup(**attrs)\n",
      "  File \"D:\\Anaconda\\lib\\site-packages\\setuptools\\_distutils\\core.py\", line 185, in setup\n",
      "    return run_commands(dist)\n",
      "  File \"D:\\Anaconda\\lib\\site-packages\\setuptools\\_distutils\\core.py\", line 201, in run_commands\n",
      "    dist.run_commands()\n",
      "  File \"D:\\Anaconda\\lib\\site-packages\\setuptools\\_distutils\\dist.py\", line 969, in run_commands\n",
      "    self.run_command(cmd)\n",
      "  File \"D:\\Anaconda\\lib\\site-packages\\setuptools\\dist.py\", line 1217, in run_command\n",
      "    super().run_command(command)\n",
      "  File \"D:\\Anaconda\\lib\\site-packages\\setuptools\\_distutils\\dist.py\", line 985, in run_command\n",
      "    log.info(\"running %s\", command)\n",
      "Message: 'running %s'\n",
      "Arguments: ('build_ext',)\n"
     ]
    }
   ],
   "source": [
    "! python hello_world/setup.py build_ext --inplace"
   ]
  },
  {
   "cell_type": "markdown",
   "id": "55d72086-5def-4a5d-b46d-5aa19eac61f6",
   "metadata": {},
   "source": [
    "Далее его можно использовать как обычный модуль"
   ]
  },
  {
   "cell_type": "code",
   "execution_count": 3,
   "id": "08a77cff-2fc8-407e-ad87-aa19ff9b3654",
   "metadata": {},
   "outputs": [
    {
     "name": "stdout",
     "output_type": "stream",
     "text": [
      "Hello, World!\n"
     ]
    }
   ],
   "source": [
    "import hello"
   ]
  },
  {
   "cell_type": "markdown",
   "id": "ece6ff8e-1620-42ae-84c8-72e7f0467e45",
   "metadata": {},
   "source": [
    "Если модуль не требует для компиляции никаких дополнительных библиотек на C/C++, для его компиляции можно воспользоваться pyximport"
   ]
  },
  {
   "cell_type": "code",
   "execution_count": 4,
   "id": "b33e32e9-ce30-4cd3-9868-ce9ba741b89b",
   "metadata": {},
   "outputs": [],
   "source": [
    "import pyximport; pyximport.install()\n",
    "import hello"
   ]
  },
  {
   "cell_type": "markdown",
   "id": "cefbc7f0-8640-4aa1-a9c9-e2b6816c785f",
   "metadata": {},
   "source": [
    "### Числа Фибоначчи\n",
    "\n",
    "Аналогично будет выглядеть программа для расчета чисел Фибоначчи"
   ]
  },
  {
   "cell_type": "code",
   "execution_count": 5,
   "id": "bbbccfe2-d7d3-4a0a-af87-dc0cd2223f97",
   "metadata": {},
   "outputs": [],
   "source": [
    "import pyximport; pyximport.install()\n",
    "import fib"
   ]
  },
  {
   "cell_type": "code",
   "execution_count": 6,
   "id": "7501d6db-a594-47b0-a4e4-c9563fc97c55",
   "metadata": {},
   "outputs": [
    {
     "name": "stdout",
     "output_type": "stream",
     "text": [
      "1 1 2 3 5 8 13 \n"
     ]
    }
   ],
   "source": [
    "fib.fib(20)"
   ]
  },
  {
   "cell_type": "markdown",
   "id": "92928593-e1e0-40f5-986a-c8ccecf6c4d9",
   "metadata": {},
   "source": [
    "### Простые числа"
   ]
  },
  {
   "cell_type": "code",
   "execution_count": 7,
   "id": "7f3ddee4-c036-4136-90b2-4b8385195f69",
   "metadata": {},
   "outputs": [
    {
     "name": "stderr",
     "output_type": "stream",
     "text": [
      "--- Logging error ---\n",
      "Traceback (most recent call last):\n",
      "  File \"D:\\Anaconda\\lib\\logging\\__init__.py\", line 1086, in emit\n",
      "    stream.write(msg + self.terminator)\n",
      "ValueError: underlying buffer has been detached\n",
      "Call stack:\n",
      "  File \"D:\\Projects\\python-3rd-term\\2022\\11\\primes\\setup.py\", line 4, in <module>\n",
      "    setup(\n",
      "  File \"D:\\Anaconda\\lib\\site-packages\\setuptools\\__init__.py\", line 87, in setup\n",
      "    return distutils.core.setup(**attrs)\n",
      "  File \"D:\\Anaconda\\lib\\site-packages\\setuptools\\_distutils\\core.py\", line 185, in setup\n",
      "    return run_commands(dist)\n",
      "  File \"D:\\Anaconda\\lib\\site-packages\\setuptools\\_distutils\\core.py\", line 201, in run_commands\n",
      "    dist.run_commands()\n",
      "  File \"D:\\Anaconda\\lib\\site-packages\\setuptools\\_distutils\\dist.py\", line 969, in run_commands\n",
      "    self.run_command(cmd)\n",
      "  File \"D:\\Anaconda\\lib\\site-packages\\setuptools\\dist.py\", line 1217, in run_command\n",
      "    super().run_command(command)\n",
      "  File \"D:\\Anaconda\\lib\\site-packages\\setuptools\\_distutils\\dist.py\", line 985, in run_command\n",
      "    log.info(\"running %s\", command)\n",
      "Message: 'running %s'\n",
      "Arguments: ('build_ext',)\n"
     ]
    }
   ],
   "source": [
    "! python primes/setup.py build_ext --inplace"
   ]
  },
  {
   "cell_type": "code",
   "execution_count": 8,
   "id": "6ff43a06-2f8a-42b5-b94c-7cb1eb83b20a",
   "metadata": {},
   "outputs": [
    {
     "name": "stdout",
     "output_type": "stream",
     "text": [
      "50 loops, best of 5: 6.03 msec per loop\n"
     ]
    }
   ],
   "source": [
    "!python -m timeit -s \"from primes_python import primes\" \"primes(1000)\""
   ]
  },
  {
   "cell_type": "code",
   "execution_count": 9,
   "id": "f830be94-0ece-4ccd-90f6-ddbbe489e06d",
   "metadata": {},
   "outputs": [
    {
     "name": "stdout",
     "output_type": "stream",
     "text": [
      "500 loops, best of 5: 848 usec per loop\n"
     ]
    }
   ],
   "source": [
    "!python -m timeit -s \"from primes_cython import primes\" \"primes(1000)\""
   ]
  },
  {
   "cell_type": "code",
   "execution_count": null,
   "id": "ce24363d-598c-42cb-90b6-5586a63d5eed",
   "metadata": {},
   "outputs": [],
   "source": []
  }
 ],
 "metadata": {
  "kernelspec": {
   "display_name": "Python 3 (ipykernel)",
   "language": "python",
   "name": "python3"
  },
  "language_info": {
   "codemirror_mode": {
    "name": "ipython",
    "version": 3
   },
   "file_extension": ".py",
   "mimetype": "text/x-python",
   "name": "python",
   "nbconvert_exporter": "python",
   "pygments_lexer": "ipython3",
   "version": "3.9.13"
  }
 },
 "nbformat": 4,
 "nbformat_minor": 5
}
