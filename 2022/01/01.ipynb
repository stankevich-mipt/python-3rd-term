{
 "cells": [
  {
   "cell_type": "markdown",
   "id": "df17260c",
   "metadata": {},
   "source": [
    "## IDE\n",
    "\n",
    "Особенности языка позволяют с комфортом использовать как минималистичные и легковесные IDE, так и более серьезные инструменты. Классический выбор - PyCharm. Поддерживается всеми платформами, удобный, интуитивно понятный, расширяемый. Также могу посоветовать Sublime в комбинации с плагином tabnine - autocomplete, использующий нейронку GPT-2, дополняет тебя на лету, но может несколько тормозить скорость работы IDE.\n"
   ]
  },
  {
   "cell_type": "markdown",
   "id": "154ffcff",
   "metadata": {},
   "source": [
    "## Jupyter Notebook\n",
    "\n",
    "Jupyter notebook — веб-приложение с открытым исходным кодом, позволяющее разбивать питоновский код на куски и работать над ними в произвольном порядке. При запуске на локальной машине стартует в браузере на свободном порте. \n",
    "В ячейках ноутбука можно пользоваться языком разметки MarkDown (тот же, что используется в GitHub). Также поддерживается LaTeX."
   ]
  },
  {
   "cell_type": "markdown",
   "id": "50835023",
   "metadata": {},
   "source": [
    "### Hello world!"
   ]
  },
  {
   "cell_type": "code",
   "execution_count": 34,
   "id": "e6f4b99a",
   "metadata": {},
   "outputs": [
    {
     "name": "stdout",
     "output_type": "stream",
     "text": [
      "Hello world!\n"
     ]
    }
   ],
   "source": [
    "# Не будем нарушать традиций, начнём с Hello world-а.\n",
    "# (Кстати, с помощью # можно делать однострочные комментарии)\n",
    "\n",
    "print(\"Hello world!\")"
   ]
  },
  {
   "cell_type": "markdown",
   "id": "a4b0f040",
   "metadata": {},
   "source": [
    "### Переменные"
   ]
  },
  {
   "cell_type": "code",
   "execution_count": 35,
   "id": "818e8ff0",
   "metadata": {},
   "outputs": [
    {
     "name": "stdout",
     "output_type": "stream",
     "text": [
      "42\n"
     ]
    }
   ],
   "source": [
    "\"\"\"\n",
    "Python-е переменные не такие строгие, как в C++.\n",
    "Их не требуется объявлять заранее.\n",
    "И у них вообще нет строгих типов.\n",
    "(Кстати, вот так можно делать блоки многострочных комментариев.)\n",
    "\"\"\"\n",
    "\n",
    "# Например, сейчас у меня есть переменная а, которая равна целому числу 42\n",
    "a = 42\n",
    "\n",
    "# Могу её напечатать\n",
    "print(a)"
   ]
  },
  {
   "cell_type": "code",
   "execution_count": 36,
   "id": "11f3fb39",
   "metadata": {},
   "outputs": [
    {
     "name": "stdout",
     "output_type": "stream",
     "text": [
      "Test string\n"
     ]
    }
   ],
   "source": [
    "# А потом могу внезапно сказать, что теперь a содержит строку\n",
    "a = \"Test string\"\n",
    "\n",
    "# Ну и снова напечатать, да.\n",
    "print(a)"
   ]
  },
  {
   "cell_type": "markdown",
   "id": "1cd3ed00",
   "metadata": {},
   "source": [
    "### Приведение типов переменных"
   ]
  },
  {
   "cell_type": "code",
   "execution_count": 37,
   "id": "b06c2c43",
   "metadata": {},
   "outputs": [
    {
     "name": "stdout",
     "output_type": "stream",
     "text": [
      "b = 111\n",
      "Type of b is now: <class 'str'>\n"
     ]
    }
   ],
   "source": [
    "\"\"\"\n",
    "Иногда всё-таки хочется определённости, что сейчас лежит в переменной.\n",
    "Тогда можно и нужно кастовать содержимое к нужному типу.\n",
    "\"\"\"\n",
    "\n",
    "# Например, была переменная b, в ней лежала вот такая строка\n",
    "b = \"111\"\n",
    "\n",
    "# Напечатаем переменню и её тип:\n",
    "print(\"b = \" + b)\n",
    "print(\"Type of b is now:\", type(b))"
   ]
  },
  {
   "cell_type": "code",
   "execution_count": 38,
   "id": "88009b9b",
   "metadata": {},
   "outputs": [
    {
     "name": "stdout",
     "output_type": "stream",
     "text": [
      "b = 111\n",
      "Type of b is now: <class 'int'>\n"
     ]
    }
   ],
   "source": [
    "# Попросим, чтобы b стала целым числом:\n",
    "b = int(b)\n",
    "\n",
    "# Ну и напечатаем снова:\n",
    "print(\"b = \" + str(b))      # Пришлось сделать str(b). Потому что нельзя взять и сложить строку и целое число.\n",
    "print(\"Type of b is now:\", type(b))\n"
   ]
  },
  {
   "cell_type": "markdown",
   "id": "9e2d6ca3",
   "metadata": {},
   "source": [
    "### Ввод и вывод"
   ]
  },
  {
   "cell_type": "code",
   "execution_count": 39,
   "id": "0d89fcc8",
   "metadata": {},
   "outputs": [
    {
     "name": "stdout",
     "output_type": "stream",
     "text": [
      "Hi!\n",
      "Hi!\n"
     ]
    }
   ],
   "source": [
    "# Базово что-нибудь считать с консоли можно вот так:\n",
    "a = input()\n",
    "print(a)"
   ]
  },
  {
   "cell_type": "code",
   "execution_count": 40,
   "id": "e7876508",
   "metadata": {},
   "outputs": [
    {
     "name": "stdout",
     "output_type": "stream",
     "text": [
      "10\n",
      "<class 'str'>\n"
     ]
    }
   ],
   "source": [
    "# Кстати. Как думаете, какой будет тип, если ввести число? Давайте посмотрим.\n",
    "a = input()\n",
    "print(type(a))"
   ]
  },
  {
   "cell_type": "code",
   "execution_count": 41,
   "id": "4f49b3b5",
   "metadata": {},
   "outputs": [
    {
     "name": "stdout",
     "output_type": "stream",
     "text": [
      "10 10 10.0\n",
      "<class 'str'> <class 'int'> <class 'float'>\n",
      "===============\n",
      "One Two Three\n"
     ]
    }
   ],
   "source": [
    "# Разумеется, кастовать считанное к нужному типу можно. Даже нужно.\n",
    "i = int(a)\n",
    "f = float(a)\n",
    "print(a, i, f)\n",
    "print(type(a), type(i), type(f))\n",
    "\n",
    "print(\"===============\")\n",
    "\n",
    "# По умолчанию print выводит в конце символ новой строки. Но можно попросить его так не делать:\n",
    "print(\"One \", end='')\n",
    "print(\"Two \", end='')\n",
    "print(\"Three\")"
   ]
  },
  {
   "cell_type": "markdown",
   "id": "938b4c83",
   "metadata": {},
   "source": [
    "### Массивы"
   ]
  },
  {
   "cell_type": "code",
   "execution_count": 42,
   "id": "f0d7ea64",
   "metadata": {},
   "outputs": [
    {
     "name": "stdout",
     "output_type": "stream",
     "text": [
      "[1, 2, 3]\n",
      "Element = 1\n",
      "Element = 2\n",
      "Element = 3\n",
      "[1, 2, 3, 42]\n",
      "Array size now is: 4\n"
     ]
    }
   ],
   "source": [
    "\"\"\"\n",
    "Вообще массивы в Python - не совсем то, чем кажутся.\n",
    "Пока что воспримем их примерно как обычные массивы.\n",
    "Хотя самые хитрые, наверное, быстро поймут, что они больше похоже на C++-ные vector-ы.\n",
    "\"\"\"\n",
    "\n",
    "# Пустой массив\n",
    "arr1 = []\n",
    "\n",
    "# Непустой массив\n",
    "arr2 = [1, 2, 3]\n",
    "\n",
    "# Двумерный массив\n",
    "arr2d = [[1, 2, 3], [4, 5, 6], [7, 8, 9]]\n",
    "\n",
    "# Можно взять и напечатать его\n",
    "print(arr2)\n",
    "\n",
    "# Можно обойти и обратиться поэлементно\n",
    "for a in arr2:\n",
    "    print(\"Element = \" + str(a))\n",
    "\n",
    "# Можно досыпать элементов в массив, он при этом автоматически увеличится в размере\n",
    "arr2.append(42)\n",
    "print(arr2)\n",
    "\n",
    "# Можно получить размер массива.\n",
    "# Кстати, здесь использован форматированный вывод:\n",
    "# в строке формата указано %d (\"сюда будет подставлено целое число\"), дальше через % указано, что подставлять.\n",
    "print(\"Array size now is: %d\" % len(arr2))"
   ]
  },
  {
   "cell_type": "markdown",
   "id": "7eb0e4a2",
   "metadata": {},
   "source": [
    "### Условные конструкции"
   ]
  },
  {
   "cell_type": "code",
   "execution_count": 43,
   "id": "32ecab30",
   "metadata": {},
   "outputs": [
    {
     "name": "stdout",
     "output_type": "stream",
     "text": [
      "0\n",
      "Zero\n"
     ]
    }
   ],
   "source": [
    "\"\"\"\n",
    "Без if-ов жить, конечно, нельзя. В Python-е они выглядят примерно так.\n",
    "\"\"\"\n",
    "\n",
    "a = int(input())\n",
    "\n",
    "if a > 0:\n",
    "    print(\"Positive\")\n",
    "elif a < 0:\n",
    "    print(\"Negative\")\n",
    "else:\n",
    "    print(\"Zero\")"
   ]
  },
  {
   "cell_type": "markdown",
   "id": "c2a8b3df",
   "metadata": {},
   "source": [
    "### Циклы"
   ]
  },
  {
   "cell_type": "code",
   "execution_count": 44,
   "id": "ced27ce4",
   "metadata": {},
   "outputs": [
    {
     "name": "stdout",
     "output_type": "stream",
     "text": [
      "0\n",
      "1\n",
      "2\n",
      "3\n",
      "4\n",
      "==============\n",
      "0\n",
      "4\n",
      "8\n"
     ]
    }
   ],
   "source": [
    "# Цикл от нуля до заданного числа выглядит примерно так:\n",
    "for i in range(5):\n",
    "    print(i)\n",
    "\n",
    "print(\"==============\")\n",
    "\n",
    "# Цикл while:\n",
    "a = 0\n",
    "while a < 10:\n",
    "    print(a)\n",
    "    a += 4"
   ]
  },
  {
   "cell_type": "markdown",
   "id": "00f53cae",
   "metadata": {},
   "source": [
    "### Пример простой функцию"
   ]
  },
  {
   "cell_type": "code",
   "execution_count": 1,
   "id": "e03d63ee",
   "metadata": {},
   "outputs": [
    {
     "name": "stdout",
     "output_type": "stream",
     "text": [
      "5! = 120\n"
     ]
    }
   ],
   "source": [
    "# Это функция, принимает аргумент n, возврашает значение n!\n",
    "def fact(n):\n",
    "    res = 1\n",
    "    for i in range(1, n + 1):\n",
    "        res *= i\n",
    "    return res\n",
    "\n",
    "n = 5\n",
    "print(\"%d! = %d\" % (n, fact(n)))"
   ]
  },
  {
   "cell_type": "markdown",
   "id": "a546ed72",
   "metadata": {},
   "source": [
    "### Чтение нескольких аргументов"
   ]
  },
  {
   "cell_type": "code",
   "execution_count": 2,
   "id": "5e954ba9",
   "metadata": {},
   "outputs": [
    {
     "name": "stdout",
     "output_type": "stream",
     "text": [
      "1 2 3\n",
      "Read: 1\n",
      "Read: 2\n",
      "Read: 3\n",
      "The second number in the input string: 2\n"
     ]
    }
   ],
   "source": [
    "\"\"\"\n",
    "Некоторая печаль случается, когда хочется прочитать строчку чисел.\n",
    "Например, такую: 1 2 3\n",
    "Штатно же вызов input() прочитает всю строку со всеми числами разом.\n",
    "\"\"\"\n",
    "\n",
    "# Можно сделать так\n",
    "\n",
    "# Прочитали строку на входе\n",
    "z = input()\n",
    "\n",
    "# split-нули её, используя пробел как разделитель, получили массив\n",
    "data = z.split(\" \")\n",
    "\n",
    "# Обошли массив, сделали что-то с его элементами\n",
    "# (Если нужно, скастовали их к нужным типам и т.д.)\n",
    "for a in data:\n",
    "    print(\"Read: \" + a)\n",
    "\n",
    "# Ну или не обошли, а просто обратились к нужным элементам:\n",
    "a = int(data[1])\n",
    "\n",
    "print(\"The second number in the input string: %d\" % a)"
   ]
  },
  {
   "cell_type": "markdown",
   "id": "4c3815e1",
   "metadata": {},
   "source": [
    "### Некоторые базовые алгоритмы "
   ]
  },
  {
   "cell_type": "code",
   "execution_count": 5,
   "id": "d98f6430",
   "metadata": {},
   "outputs": [
    {
     "name": "stdout",
     "output_type": "stream",
     "text": [
      "Max: -4\n",
      "Min: -10\n",
      "Sorted data:\n",
      "['-10', '-3', '-4']\n",
      "Reverse sorted data:\n",
      "['-4', '-3', '-10']\n"
     ]
    }
   ],
   "source": [
    "# Были у нас переменные\n",
    "a = str(-3)\n",
    "b = str(-4)\n",
    "c = str(-10)\n",
    "\n",
    "# Сделаем из них массив\n",
    "data = [a, b, c]\n",
    "\n",
    "# Поиспользуем немного встроенных функций\n",
    "print(f\"Max: {max(data)}\")\n",
    "print(f\"Min: {min(data)}\")\n",
    "\n",
    "print(\"Sorted data:\")\n",
    "print(sorted(data))\n",
    "\n",
    "print(\"Reverse sorted data:\")\n",
    "print(sorted(data, reverse=True))"
   ]
  },
  {
   "cell_type": "code",
   "execution_count": 6,
   "id": "518a122e",
   "metadata": {},
   "outputs": [
    {
     "name": "stdout",
     "output_type": "stream",
     "text": [
      "1 2 5\n",
      "<class 'int'> <class 'int'>\n"
     ]
    }
   ],
   "source": [
    "arr = [int(i) for i in input().split(\" \")] # list comprehension\n",
    "print(type(arr[0]), type(arr[1]))"
   ]
  },
  {
   "cell_type": "markdown",
   "id": "d04ff291",
   "metadata": {},
   "source": [
    "### Cтруктуры данных"
   ]
  },
  {
   "cell_type": "code",
   "execution_count": null,
   "id": "1c053e60",
   "metadata": {},
   "outputs": [],
   "source": [
    "def get_age(dct): return dct['age']"
   ]
  },
  {
   "cell_type": "code",
   "execution_count": 7,
   "id": "ed2112bf",
   "metadata": {},
   "outputs": [],
   "source": [
    "lmbda = lambda x, y: x + y"
   ]
  },
  {
   "cell_type": "code",
   "execution_count": 9,
   "id": "1a3cdb15",
   "metadata": {},
   "outputs": [
    {
     "data": {
      "text/plain": [
       "8"
      ]
     },
     "execution_count": 9,
     "metadata": {},
     "output_type": "execute_result"
    }
   ],
   "source": [
    "lmbda(3, 5)"
   ]
  },
  {
   "cell_type": "code",
   "execution_count": 5,
   "id": "ecee7512",
   "metadata": {},
   "outputs": [
    {
     "name": "stdout",
     "output_type": "stream",
     "text": [
      "User UserB, age 17\n",
      "User A, age 20\n",
      "User C, age 25\n",
      "===============\n",
      "User A, age 20\n",
      "User C, age 25\n",
      "User UserB, age 17\n"
     ]
    }
   ],
   "source": [
    "\"\"\"\n",
    "Для хранения составных данных есть приличное количество вариантов.\n",
    "Возьмём для старта и для примера dict. Это примерно как map в C++, хотя, конечно, не совсем.\n",
    "\"\"\"\n",
    "\n",
    "# Пусть у нас есть два человека. У каждого есть имя и возраст.\n",
    "user_a = {\n",
    "    'name': \"A\",\n",
    "    'age': 20\n",
    "}\n",
    "user_b = {\n",
    "    'name': \"UserB\",\n",
    "    'age': 17\n",
    "}\n",
    "user_c = {\n",
    "    'name': \"C\",\n",
    "    'age': 25\n",
    "}\n",
    "\n",
    "# Сделаем из них массив\n",
    "users = [user_a, user_b, user_c]\n",
    "\n",
    "# Обойдём людей, отсортировав их по возрасту\n",
    "# (sorted не меняет исходный массив users)\n",
    "for user in sorted(users, key = lambda u: u['age']):\n",
    "    print(\"User %s, age %d\" %(user['name'], user['age']))\n",
    "\n",
    "print(\"===============\")\n",
    "\n",
    "# Отсортируем людей по имени, меняя исходный массив.\n",
    "# Потом обойдём отсортированное.\n",
    "users.sort(key = lambda u: u['name'])\n",
    "for user in users:\n",
    "    print(\"User %s, age %d\" % (user['name'], user['age']))"
   ]
  },
  {
   "cell_type": "code",
   "execution_count": 10,
   "id": "09f44eff",
   "metadata": {},
   "outputs": [
    {
     "name": "stdout",
     "output_type": "stream",
     "text": [
      "Help on class set in module builtins:\n",
      "\n",
      "class set(object)\n",
      " |  set() -> new empty set object\n",
      " |  set(iterable) -> new set object\n",
      " |  \n",
      " |  Build an unordered collection of unique elements.\n",
      " |  \n",
      " |  Methods defined here:\n",
      " |  \n",
      " |  __and__(self, value, /)\n",
      " |      Return self&value.\n",
      " |  \n",
      " |  __contains__(...)\n",
      " |      x.__contains__(y) <==> y in x.\n",
      " |  \n",
      " |  __eq__(self, value, /)\n",
      " |      Return self==value.\n",
      " |  \n",
      " |  __ge__(self, value, /)\n",
      " |      Return self>=value.\n",
      " |  \n",
      " |  __getattribute__(self, name, /)\n",
      " |      Return getattr(self, name).\n",
      " |  \n",
      " |  __gt__(self, value, /)\n",
      " |      Return self>value.\n",
      " |  \n",
      " |  __iand__(self, value, /)\n",
      " |      Return self&=value.\n",
      " |  \n",
      " |  __init__(self, /, *args, **kwargs)\n",
      " |      Initialize self.  See help(type(self)) for accurate signature.\n",
      " |  \n",
      " |  __ior__(self, value, /)\n",
      " |      Return self|=value.\n",
      " |  \n",
      " |  __isub__(self, value, /)\n",
      " |      Return self-=value.\n",
      " |  \n",
      " |  __iter__(self, /)\n",
      " |      Implement iter(self).\n",
      " |  \n",
      " |  __ixor__(self, value, /)\n",
      " |      Return self^=value.\n",
      " |  \n",
      " |  __le__(self, value, /)\n",
      " |      Return self<=value.\n",
      " |  \n",
      " |  __len__(self, /)\n",
      " |      Return len(self).\n",
      " |  \n",
      " |  __lt__(self, value, /)\n",
      " |      Return self<value.\n",
      " |  \n",
      " |  __ne__(self, value, /)\n",
      " |      Return self!=value.\n",
      " |  \n",
      " |  __new__(*args, **kwargs) from builtins.type\n",
      " |      Create and return a new object.  See help(type) for accurate signature.\n",
      " |  \n",
      " |  __or__(self, value, /)\n",
      " |      Return self|value.\n",
      " |  \n",
      " |  __rand__(self, value, /)\n",
      " |      Return value&self.\n",
      " |  \n",
      " |  __reduce__(...)\n",
      " |      Return state information for pickling.\n",
      " |  \n",
      " |  __repr__(self, /)\n",
      " |      Return repr(self).\n",
      " |  \n",
      " |  __ror__(self, value, /)\n",
      " |      Return value|self.\n",
      " |  \n",
      " |  __rsub__(self, value, /)\n",
      " |      Return value-self.\n",
      " |  \n",
      " |  __rxor__(self, value, /)\n",
      " |      Return value^self.\n",
      " |  \n",
      " |  __sizeof__(...)\n",
      " |      S.__sizeof__() -> size of S in memory, in bytes\n",
      " |  \n",
      " |  __sub__(self, value, /)\n",
      " |      Return self-value.\n",
      " |  \n",
      " |  __xor__(self, value, /)\n",
      " |      Return self^value.\n",
      " |  \n",
      " |  add(...)\n",
      " |      Add an element to a set.\n",
      " |      \n",
      " |      This has no effect if the element is already present.\n",
      " |  \n",
      " |  clear(...)\n",
      " |      Remove all elements from this set.\n",
      " |  \n",
      " |  copy(...)\n",
      " |      Return a shallow copy of a set.\n",
      " |  \n",
      " |  difference(...)\n",
      " |      Return the difference of two or more sets as a new set.\n",
      " |      \n",
      " |      (i.e. all elements that are in this set but not the others.)\n",
      " |  \n",
      " |  difference_update(...)\n",
      " |      Remove all elements of another set from this set.\n",
      " |  \n",
      " |  discard(...)\n",
      " |      Remove an element from a set if it is a member.\n",
      " |      \n",
      " |      If the element is not a member, do nothing.\n",
      " |  \n",
      " |  intersection(...)\n",
      " |      Return the intersection of two sets as a new set.\n",
      " |      \n",
      " |      (i.e. all elements that are in both sets.)\n",
      " |  \n",
      " |  intersection_update(...)\n",
      " |      Update a set with the intersection of itself and another.\n",
      " |  \n",
      " |  isdisjoint(...)\n",
      " |      Return True if two sets have a null intersection.\n",
      " |  \n",
      " |  issubset(...)\n",
      " |      Report whether another set contains this set.\n",
      " |  \n",
      " |  issuperset(...)\n",
      " |      Report whether this set contains another set.\n",
      " |  \n",
      " |  pop(...)\n",
      " |      Remove and return an arbitrary set element.\n",
      " |      Raises KeyError if the set is empty.\n",
      " |  \n",
      " |  remove(...)\n",
      " |      Remove an element from a set; it must be a member.\n",
      " |      \n",
      " |      If the element is not a member, raise a KeyError.\n",
      " |  \n",
      " |  symmetric_difference(...)\n",
      " |      Return the symmetric difference of two sets as a new set.\n",
      " |      \n",
      " |      (i.e. all elements that are in exactly one of the sets.)\n",
      " |  \n",
      " |  symmetric_difference_update(...)\n",
      " |      Update a set with the symmetric difference of itself and another.\n",
      " |  \n",
      " |  union(...)\n",
      " |      Return the union of sets as a new set.\n",
      " |      \n",
      " |      (i.e. all elements that are in either set.)\n",
      " |  \n",
      " |  update(...)\n",
      " |      Update a set with the union of itself and others.\n",
      " |  \n",
      " |  ----------------------------------------------------------------------\n",
      " |  Data and other attributes defined here:\n",
      " |  \n",
      " |  __hash__ = None\n",
      "\n"
     ]
    }
   ],
   "source": [
    "help(set)"
   ]
  },
  {
   "cell_type": "code",
   "execution_count": 6,
   "id": "2e6b42ad",
   "metadata": {},
   "outputs": [
    {
     "name": "stdout",
     "output_type": "stream",
     "text": [
      "{1, 2}\n"
     ]
    }
   ],
   "source": [
    "\"\"\"\n",
    "set-ы ведут себя примерно аналогично STL-ным\n",
    "\"\"\"\n",
    "\n",
    "a = set()\n",
    "a.add(1)\n",
    "a.add(2)\n",
    "a.add(1)\n",
    "a.add(1)\n",
    "\n",
    "print(a)"
   ]
  },
  {
   "cell_type": "code",
   "execution_count": 12,
   "id": "23384dd1",
   "metadata": {},
   "outputs": [
    {
     "name": "stdout",
     "output_type": "stream",
     "text": [
      "[3, 2, 1]\n"
     ]
    }
   ],
   "source": [
    "a = [1, 2, 3]\n",
    "a.reverse()\n",
    "print(a)"
   ]
  },
  {
   "cell_type": "markdown",
   "id": "2e703aa4",
   "metadata": {},
   "source": [
    "### Строки"
   ]
  },
  {
   "cell_type": "code",
   "execution_count": 8,
   "id": "b102d129",
   "metadata": {},
   "outputs": [
    {
     "name": "stdout",
     "output_type": "stream",
     "text": [
      "abcdf <class 'str'>\n",
      "a <class 'str'>\n",
      "97 <class 'int'> a\n",
      "String: abc def gh\n",
      "Len: 10\n",
      "Upper: ABC DEF GH\n",
      "Lower: abc def gh\n",
      "['abc', 'def', 'gh']\n"
     ]
    }
   ],
   "source": [
    "# Строки - это массивы символов\n",
    "s = \"abcdf\"\n",
    "print(s, type(s))\n",
    "\n",
    "# Но отдельные символы - это тоже строки, просто длины 1\n",
    "s0 = s[0]\n",
    "print(s0, type(s0))\n",
    "\n",
    "# Если нужен аналог char-а, есть отдельные функции\n",
    "c = ord(s0)\n",
    "print(c, type(c), chr(c))\n",
    "\n",
    "# Для строк есть много полезных функций (здесь только малая часть)\n",
    "data = \"abc def gh\"\n",
    "print(\"String:\", data)\n",
    "print(\"Len:\", len(data))\n",
    "print(\"Upper:\", data.upper())\n",
    "print(\"Lower:\", data.lower())\n",
    "words = data.split(' ')\n",
    "print(words)"
   ]
  },
  {
   "cell_type": "markdown",
   "id": "257df70a",
   "metadata": {},
   "source": [
    "### Форматированный вывод"
   ]
  },
  {
   "cell_type": "code",
   "execution_count": 9,
   "id": "ad6be8a6",
   "metadata": {},
   "outputs": [
    {
     "name": "stdout",
     "output_type": "stream",
     "text": [
      "Alice is 18\n",
      "Alice is 18\n",
      "Alice is 18\n",
      "2 + 3 = 5\n"
     ]
    }
   ],
   "source": [
    "# Данные\n",
    "name = \"Alice\"\n",
    "age  = 18\n",
    "\n",
    "# Старый стиль\n",
    "print(\"%s is %d\" % (name, age))\n",
    "\n",
    "# Новый стиль\n",
    "print(\"{n} is {a}\".format(n = name, a = age))\n",
    "\n",
    "# Новейший стиль (f-strings, Python 3.6+)\n",
    "print(f'{name} is {age}')\n",
    "\n",
    "# Можно не только подстановку переменных, но и вычисление\n",
    "a = 2\n",
    "b = 3\n",
    "print(f'{a} + {b} = {a + b}')"
   ]
  },
  {
   "cell_type": "code",
   "execution_count": 18,
   "id": "296b4f36",
   "metadata": {},
   "outputs": [],
   "source": [
    "class duck():\n",
    "    \n",
    "    def __init__(self, name):\n",
    "        \n",
    "        self.name = name\n",
    "    \n",
    "    def swim(): return\n",
    "    \n",
    "    def __str__(self):\n",
    "        \n",
    "        return self.name\n",
    "    \n",
    "donald = duck('Donald')        "
   ]
  },
  {
   "cell_type": "code",
   "execution_count": 19,
   "id": "82f8b021",
   "metadata": {},
   "outputs": [
    {
     "name": "stdout",
     "output_type": "stream",
     "text": [
      "Donald\n"
     ]
    }
   ],
   "source": [
    "print(f\"{donald}\")"
   ]
  },
  {
   "cell_type": "markdown",
   "id": "ec672e50",
   "metadata": {},
   "source": [
    "### Передача аргументов в функции"
   ]
  },
  {
   "cell_type": "code",
   "execution_count": 10,
   "id": "0b2389a9",
   "metadata": {},
   "outputs": [
    {
     "name": "stdout",
     "output_type": "stream",
     "text": [
      "[1, 2, 3]\n",
      "[-1, 2, 3, 42]\n",
      "string\n",
      "Inside function: string test\n",
      "string\n"
     ]
    }
   ],
   "source": [
    "\"\"\"\n",
    "В C++ было много нюансов с передачей параметров в функции.\n",
    "Можно было передавать по значению, по указателю, по ссылке. И ещё были const-ы.\n",
    "Как это устроено в Python-е? Несколько иначе.\n",
    "Бывают неизменяемые типы данных (immutable) и изменяемые (mutable).\n",
    "Всё immutable передаётся по значению. Всё mutable - по ссылке.\n",
    "\"\"\"\n",
    "\n",
    "\n",
    "def change_list(l):\n",
    "    l.append(42)\n",
    "    l[0] = -1\n",
    "\n",
    "\n",
    "def change_string(s):\n",
    "    s += \" test\"\n",
    "    print(\"Inside function: %s\" % s)\n",
    "\n",
    "\n",
    "my_list = [1, 2, 3]\n",
    "print(my_list)\n",
    "change_list(my_list)\n",
    "print(my_list)\n",
    "\n",
    "\n",
    "my_string = \"string\"\n",
    "print(my_string)\n",
    "change_string(my_string)\n",
    "print(my_string)"
   ]
  },
  {
   "cell_type": "code",
   "execution_count": null,
   "id": "b06f6c70",
   "metadata": {},
   "outputs": [],
   "source": []
  }
 ],
 "metadata": {
  "kernelspec": {
   "display_name": "Python 3",
   "language": "python",
   "name": "python3"
  },
  "language_info": {
   "codemirror_mode": {
    "name": "ipython",
    "version": 3
   },
   "file_extension": ".py",
   "mimetype": "text/x-python",
   "name": "python",
   "nbconvert_exporter": "python",
   "pygments_lexer": "ipython3",
   "version": "3.6.9"
  }
 },
 "nbformat": 4,
 "nbformat_minor": 5
}
