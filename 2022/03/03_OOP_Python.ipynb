{
 "cells": [
  {
   "cell_type": "markdown",
   "metadata": {},
   "source": [
    "# Декораторы и генераторы"
   ]
  },
  {
   "cell_type": "markdown",
   "metadata": {},
   "source": [
    "## Декораторы"
   ]
  },
  {
   "cell_type": "code",
   "execution_count": 1,
   "metadata": {},
   "outputs": [
    {
     "name": "stdout",
     "output_type": "stream",
     "text": [
      "Hi\n",
      "<class 'map'>\n"
     ]
    }
   ],
   "source": [
    "def decorator(func): \n",
    "    print(\"Hi\")\n",
    "    return func\n",
    "\n",
    "new_map = decorator(map)\n",
    "print(new_map)"
   ]
  },
  {
   "cell_type": "code",
   "execution_count": 2,
   "metadata": {},
   "outputs": [
    {
     "name": "stdout",
     "output_type": "stream",
     "text": [
      "Hi\n",
      "Hello\n"
     ]
    }
   ],
   "source": [
    "@decorator\n",
    "def decorated():\n",
    "    print(\"Hello\")\n",
    "\n",
    "decorated()"
   ]
  },
  {
   "cell_type": "code",
   "execution_count": 3,
   "metadata": {},
   "outputs": [],
   "source": [
    "import functools\n",
    "\n",
    "def logger(func):\n",
    "    \n",
    "    def wrapped(*args, **kwargs):\n",
    "        result = func(*args, **kwargs)\n",
    "        with open('log.txt', 'w') as f:\n",
    "            f.write(str(result))\n",
    "        return result\n",
    "    return wrapped\n",
    "\n",
    "def summator(a, b):\n",
    "    return a + b"
   ]
  },
  {
   "cell_type": "code",
   "execution_count": 4,
   "metadata": {},
   "outputs": [],
   "source": [
    "@logger\n",
    "def multiply_by_two(a):\n",
    "    return a * 2"
   ]
  },
  {
   "cell_type": "code",
   "execution_count": 5,
   "metadata": {},
   "outputs": [
    {
     "data": {
      "text/plain": [
       "8"
      ]
     },
     "execution_count": 5,
     "metadata": {},
     "output_type": "execute_result"
    }
   ],
   "source": [
    "def loggerv2(filename):\n",
    "    def decorator(func):\n",
    "        def wrapped(*args, **kwargs):\n",
    "            result = func(*args, **kwargs)\n",
    "            with open(filename, 'w') as f: f.write(str(result))\n",
    "            return result\n",
    "        return wrapped\n",
    "    return decorator\n",
    "\n",
    "@loggerv2('new_log.txt')\n",
    "def multiply_by_two(a):\n",
    "    return a * 2\n",
    "\n",
    "multiply_by_two(4)                       "
   ]
  },
  {
   "cell_type": "markdown",
   "metadata": {},
   "source": [
    "## Генераторы"
   ]
  },
  {
   "cell_type": "code",
   "execution_count": 6,
   "metadata": {},
   "outputs": [],
   "source": [
    "def even_generator(start, end):\n",
    "    current = start\n",
    "    while current < end:\n",
    "        yield current\n",
    "        print(f\"Current value: {current}\")\n",
    "        current += 2"
   ]
  },
  {
   "cell_type": "code",
   "execution_count": 7,
   "metadata": {},
   "outputs": [
    {
     "data": {
      "text/plain": [
       "1"
      ]
     },
     "execution_count": 7,
     "metadata": {},
     "output_type": "execute_result"
    }
   ],
   "source": [
    "gen = even_generator(1, 6)\n",
    "\n",
    "next(gen)"
   ]
  },
  {
   "cell_type": "code",
   "execution_count": 8,
   "metadata": {},
   "outputs": [
    {
     "data": {
      "text/plain": [
       "[0, 1, 1, 2, 3, 5, 8, 13, 21, 34]"
      ]
     },
     "execution_count": 8,
     "metadata": {},
     "output_type": "execute_result"
    }
   ],
   "source": [
    "def fib_generator(n):\n",
    "    a, b = 0, 1\n",
    "    for _ in range(n):\n",
    "        yield(a)\n",
    "        a, b = b, b+a\n",
    "        \n",
    "[i for i in fib_generator(10)]"
   ]
  },
  {
   "cell_type": "code",
   "execution_count": 9,
   "metadata": {},
   "outputs": [],
   "source": [
    "def accumulator():\n",
    "    total =  0\n",
    "    while True:\n",
    "        value = yield total\n",
    "        print(f'Got {value}')\n",
    "        \n",
    "        if not value: break\n",
    "        total += value\n",
    "              "
   ]
  },
  {
   "cell_type": "code",
   "execution_count": 10,
   "metadata": {},
   "outputs": [],
   "source": [
    "acc = accumulator()"
   ]
  },
  {
   "cell_type": "code",
   "execution_count": 11,
   "metadata": {},
   "outputs": [
    {
     "data": {
      "text/plain": [
       "0"
      ]
     },
     "execution_count": 11,
     "metadata": {},
     "output_type": "execute_result"
    }
   ],
   "source": [
    "next(acc)"
   ]
  },
  {
   "cell_type": "code",
   "execution_count": 12,
   "metadata": {},
   "outputs": [
    {
     "name": "stdout",
     "output_type": "stream",
     "text": [
      "Got 1\n"
     ]
    },
    {
     "data": {
      "text/plain": [
       "1"
      ]
     },
     "execution_count": 12,
     "metadata": {},
     "output_type": "execute_result"
    }
   ],
   "source": [
    "acc.send(1)"
   ]
  },
  {
   "cell_type": "code",
   "execution_count": 13,
   "metadata": {},
   "outputs": [
    {
     "name": "stdout",
     "output_type": "stream",
     "text": [
      "Got 10\n"
     ]
    },
    {
     "data": {
      "text/plain": [
       "11"
      ]
     },
     "execution_count": 13,
     "metadata": {},
     "output_type": "execute_result"
    }
   ],
   "source": [
    "acc.send(10)"
   ]
  },
  {
   "cell_type": "markdown",
   "metadata": {
    "id": "C2sC4yXRjvgT"
   },
   "source": [
    "# ООП в Python"
   ]
  },
  {
   "cell_type": "code",
   "execution_count": 14,
   "metadata": {
    "id": "o_JRXqHLgRqq"
   },
   "outputs": [],
   "source": [
    "\"\"\"\n",
    "ООП в Python-е, разумеется, есть.\n",
    "Более того, все концепции в нём ровно такие же, как были в прошлом году для C++.\n",
    "Поэтому заново обсуждать базовые принципы не будем.\n",
    "Вместо этого сверхсжато посмотрим, \"а как это будет в Python-е\".\n",
    "\"\"\"\n",
    "\n",
    "\n",
    "class MyClass:\n",
    "    pass"
   ]
  },
  {
   "cell_type": "code",
   "execution_count": 15,
   "metadata": {
    "colab": {
     "base_uri": "https://localhost:8080/"
    },
    "id": "cG9h2oYVjc5V",
    "outputId": "fbd93a72-f41d-4bb7-ff8b-a42ae397014b"
   },
   "outputs": [
    {
     "name": "stdout",
     "output_type": "stream",
     "text": [
      "Alpha: __init__ called\n",
      "Alpha: method called\n"
     ]
    }
   ],
   "source": [
    "# Это тоже класс. Уже не совсем пустой.\n",
    "class Alpha:\n",
    "    # Это *не* конструктор.\n",
    "    # Его обычно воспринимают как конструктор.\n",
    "    # И это даже обычно разумно.\n",
    "    # Но всё-таки это *не* конструктор.\n",
    "    # Это инициализатор экземпляра, уже созданного ранее \"настоящим\" конструктором.\n",
    "    # Лезть внутрь \"настоящего\" конструктора обычно не надо, поэтому есть __init__\n",
    "    # Но если однажды потребуется залезть в \"настоящий\" конструктор, то он называется __new__\n",
    "    def __init__(self):\n",
    "        print(\"Alpha: __init__ called\")\n",
    "\n",
    "    # Это деструктор.\n",
    "    # Тут всё честно, это \"настоящий\" деструктор.\n",
    "    # Из этого следует интересный момент - __del__ отработает, даже если __init__ упадёт.\n",
    "    # И вот этот момент стоит на всякий случай иметь в виду.\n",
    "    def __del__(self):\n",
    "        print(\"Alpha: __del__ called\")\n",
    "\n",
    "    # А это просто некий метод\n",
    "    def do_smth(self):\n",
    "        print(\"Alpha: method called\")\n",
    "\n",
    "\n",
    "a = Alpha()\n",
    "a.do_smth()"
   ]
  },
  {
   "cell_type": "code",
   "execution_count": 16,
   "metadata": {},
   "outputs": [
    {
     "data": {
      "text/plain": [
       "['__module__',\n",
       " '__init__',\n",
       " '__del__',\n",
       " 'do_smth',\n",
       " '__dict__',\n",
       " '__weakref__',\n",
       " '__doc__',\n",
       " '__repr__',\n",
       " '__hash__',\n",
       " '__str__',\n",
       " '__getattribute__',\n",
       " '__setattr__',\n",
       " '__delattr__',\n",
       " '__lt__',\n",
       " '__le__',\n",
       " '__eq__',\n",
       " '__ne__',\n",
       " '__gt__',\n",
       " '__ge__',\n",
       " '__new__',\n",
       " '__reduce_ex__',\n",
       " '__reduce__',\n",
       " '__subclasshook__',\n",
       " '__init_subclass__',\n",
       " '__format__',\n",
       " '__sizeof__',\n",
       " '__dir__',\n",
       " '__class__']"
      ]
     },
     "execution_count": 16,
     "metadata": {},
     "output_type": "execute_result"
    }
   ],
   "source": [
    "a.__dir__()"
   ]
  },
  {
   "cell_type": "markdown",
   "metadata": {
    "id": "IOa06tw_kqU3"
   },
   "source": [
    "### Поля классов"
   ]
  },
  {
   "cell_type": "code",
   "execution_count": 17,
   "metadata": {
    "id": "uzFQiaQ8j5Sc"
   },
   "outputs": [],
   "source": [
    "# У этого класса будут поля\n",
    "class TestClass:\n",
    "\n",
    "    # Это поле класса. Примерно как static-поле в C++, хотя и не совсем.\n",
    "    foo = 42\n",
    "\n",
    "    # Это конструктор с параметрами\n",
    "    def __init__(self, a, b):\n",
    "        # Возникают ещё два поля класса, теперь уже личные для данного экземпляра.\n",
    "        # Правило хорошего тона - все поля должны возникнуть внутри __init__-а.\n",
    "        # Хотя технически ничто не мешает создать новые поля внутри других методов.\n",
    "        self.bar = a\n",
    "        self.baz = b\n",
    "\n",
    "        # Так тоже можно писать. Это снова таплы, да.\n",
    "        #self.bar, self.baz = a, b"
   ]
  },
  {
   "cell_type": "code",
   "execution_count": 18,
   "metadata": {},
   "outputs": [
    {
     "data": {
      "text/plain": [
       "42"
      ]
     },
     "execution_count": 18,
     "metadata": {},
     "output_type": "execute_result"
    }
   ],
   "source": [
    "TestClass.foo"
   ]
  },
  {
   "cell_type": "code",
   "execution_count": 19,
   "metadata": {
    "colab": {
     "base_uri": "https://localhost:8080/"
    },
    "id": "J64ZKQCEkE9r",
    "outputId": "17635cb4-6f16-47c7-cae6-d317dc0321ed"
   },
   "outputs": [
    {
     "name": "stdout",
     "output_type": "stream",
     "text": [
      "Alpha: __del__ called\n",
      "=== Initial values ===\n",
      "42 1 2\n",
      "42 3 4\n"
     ]
    }
   ],
   "source": [
    "# Создадим пару экземпляров класса\n",
    "a = TestClass(1, 2)\n",
    "b = TestClass(3, 4)\n",
    "\n",
    "print(\"=== Initial values ===\")\n",
    "# Распечатаем, посмотрим и на поле класса, и на поля экземпляров\n",
    "for c in [a, b]:\n",
    "    print(c.foo, c.bar, c.baz)"
   ]
  },
  {
   "cell_type": "code",
   "execution_count": 20,
   "metadata": {
    "colab": {
     "base_uri": "https://localhost:8080/"
    },
    "id": "ZO4n_lZwkJ8w",
    "outputId": "0bd9cc99-67ae-4900-a3d8-1e21fff36a8e"
   },
   "outputs": [
    {
     "name": "stdout",
     "output_type": "stream",
     "text": [
      "=== Updated values ===\n",
      "24 -1 -2\n",
      "24 3 4\n"
     ]
    }
   ],
   "source": [
    "# Поменяем поле класса\n",
    "TestClass.foo = 24\n",
    "# И поля одного из экземпляров тоже\n",
    "a.bar = -1\n",
    "a.baz = -2\n",
    "\n",
    "print(\"=== Updated values ===\")\n",
    "# Снова на них посмотрим\n",
    "for c in [a, b]:\n",
    "    print(c.foo, c.bar, c.baz)"
   ]
  },
  {
   "cell_type": "code",
   "execution_count": 21,
   "metadata": {},
   "outputs": [],
   "source": [
    "a.bar = map"
   ]
  },
  {
   "cell_type": "code",
   "execution_count": 22,
   "metadata": {},
   "outputs": [
    {
     "data": {
      "text/plain": [
       "map"
      ]
     },
     "execution_count": 22,
     "metadata": {},
     "output_type": "execute_result"
    }
   ],
   "source": [
    "a.bar"
   ]
  },
  {
   "cell_type": "code",
   "execution_count": 23,
   "metadata": {
    "colab": {
     "base_uri": "https://localhost:8080/"
    },
    "id": "suytZdMPkPQo",
    "outputId": "9a7fccb4-8f55-432e-9722-4984b07b032d"
   },
   "outputs": [
    {
     "name": "stdout",
     "output_type": "stream",
     "text": [
      "=== Surprise ===\n",
      "88 <class 'map'> -2\n",
      "24 3 4\n"
     ]
    }
   ],
   "source": [
    "# Попробуем ещё раз поменять \"квазистатическое\" поле и ещё раз посмотреть на все значения\n",
    "a.foo = 88\n",
    "print(\"=== Surprise ===\")\n",
    "for c in [a, b]:\n",
    "    print(c.foo, c.bar, c.baz)"
   ]
  },
  {
   "cell_type": "code",
   "execution_count": 24,
   "metadata": {},
   "outputs": [
    {
     "data": {
      "text/plain": [
       "{'bar': map, 'baz': -2, 'foo': 88}"
      ]
     },
     "execution_count": 24,
     "metadata": {},
     "output_type": "execute_result"
    }
   ],
   "source": [
    "a.__dict__"
   ]
  },
  {
   "cell_type": "markdown",
   "metadata": {
    "id": "jwcPfCXrk1Ja"
   },
   "source": [
    "### Наследование в Python"
   ]
  },
  {
   "cell_type": "code",
   "execution_count": 25,
   "metadata": {
    "id": "DZyNKo88kRRL"
   },
   "outputs": [],
   "source": [
    "# Наследование в Python-е, очевидно, есть\n",
    "\n",
    "\n",
    "# Это базовый класс\n",
    "class A:\n",
    "    def __init__(self, v=42):\n",
    "        self.a = v\n",
    "\n",
    "# А это унаследованный от него\n",
    "class B(A):\n",
    "    # Допустим, наследник хочет свой __init__\n",
    "    def __init__(self):\n",
    "        # Тогда на его совести вызвать __init__ родителя,\n",
    "        # иначе логика инита базового класса не выполнится\n",
    "        super().__init__(1)\n",
    "        # Дальше можно свой дополнительный инит писать\n",
    "        self.b = -1"
   ]
  },
  {
   "cell_type": "code",
   "execution_count": 26,
   "metadata": {
    "colab": {
     "base_uri": "https://localhost:8080/"
    },
    "id": "aOUoRdKrk6YC",
    "outputId": "098480da-1e47-49bb-81f5-7fc63b5e54d2"
   },
   "outputs": [
    {
     "name": "stdout",
     "output_type": "stream",
     "text": [
      "42\n",
      "1\n"
     ]
    }
   ],
   "source": [
    "# Создадим базовый класс, посмотрим на поля\n",
    "a = A()\n",
    "print(a.a)\n",
    "\n",
    "# Аналогично посмотрим на унаследованный\n",
    "b = B()\n",
    "print(b.a)"
   ]
  },
  {
   "cell_type": "code",
   "execution_count": 27,
   "metadata": {
    "colab": {
     "base_uri": "https://localhost:8080/"
    },
    "id": "AcTej67Ok7V3",
    "outputId": "e5dd1d95-635c-4616-914c-fe8ee6784973"
   },
   "outputs": [
    {
     "name": "stdout",
     "output_type": "stream",
     "text": [
      "True\n",
      "False\n",
      "True\n",
      "True\n"
     ]
    }
   ],
   "source": [
    "# Ещё сразу посмотрим на логику того, кто кем является при выполнении кода\n",
    "print(isinstance(a, A))\n",
    "print(isinstance(a, B))\n",
    "print(isinstance(b, A))\n",
    "print(isinstance(b, B))"
   ]
  },
  {
   "cell_type": "markdown",
   "metadata": {
    "id": "LLSrfpO4lE-8"
   },
   "source": [
    "### Права доступа"
   ]
  },
  {
   "cell_type": "code",
   "execution_count": 28,
   "metadata": {
    "id": "XSYkSAoCk8_x"
   },
   "outputs": [],
   "source": [
    "\"\"\"\n",
    "Аналоги public, protected и private есть. Но с нюансами.\n",
    "Синтаксически они основаны на именовании:\n",
    "    - что начинается с __ - то private,\n",
    "    - что начинается с _ - то protected,\n",
    "    - что начинается без подчёркиваний - то public.\n",
    "Но держится всё это на сокрытии имён и порядочнсти участников процесса.\n",
    "\"\"\"\n",
    "\n",
    "# Это базовый класс\n",
    "class A:\n",
    "    def __init__(self, v):\n",
    "        # Это его публичное поле\n",
    "        self.a = v\n",
    "        # Это protected\n",
    "        self._b = v\n",
    "        # А это приватное\n",
    "        self.__c = v\n",
    "\n",
    "\n",
    "# Это унаследованный класс\n",
    "class B(A):\n",
    "\n",
    "    # Это его публичный метод\n",
    "    def do_some_work(self):\n",
    "        print(self.a)       # Так можно\n",
    "        print(self._b)      # Так тоже\n",
    "        #print(self.__c)    # А так нельзя\n",
    "\n",
    "    # А это приватный\n",
    "    def __secret(self):\n",
    "        print(\"Secret!\")"
   ]
  },
  {
   "cell_type": "code",
   "execution_count": 29,
   "metadata": {},
   "outputs": [],
   "source": [
    "a = A(42)"
   ]
  },
  {
   "cell_type": "code",
   "execution_count": 30,
   "metadata": {
    "colab": {
     "base_uri": "https://localhost:8080/",
     "height": 207
    },
    "id": "bP2emkv8lKkH",
    "outputId": "c504ce15-3610-4268-d44c-0d905b88fce8"
   },
   "outputs": [
    {
     "ename": "AttributeError",
     "evalue": "'A' object has no attribute '__c'",
     "output_type": "error",
     "traceback": [
      "\u001b[0;31m---------------------------------------------------------------------------\u001b[0m",
      "\u001b[0;31mAttributeError\u001b[0m                            Traceback (most recent call last)",
      "\u001b[0;32m<ipython-input-30-e04a914430b2>\u001b[0m in \u001b[0;36m<module>\u001b[0;34m\u001b[0m\n\u001b[1;32m      3\u001b[0m \u001b[0;34m\u001b[0m\u001b[0m\n\u001b[1;32m      4\u001b[0m \u001b[0;31m# Так нельзя, поле же private\u001b[0m\u001b[0;34m\u001b[0m\u001b[0;34m\u001b[0m\u001b[0;34m\u001b[0m\u001b[0m\n\u001b[0;32m----> 5\u001b[0;31m \u001b[0mprint\u001b[0m\u001b[0;34m(\u001b[0m\u001b[0ma\u001b[0m\u001b[0;34m.\u001b[0m\u001b[0m__c\u001b[0m\u001b[0;34m)\u001b[0m\u001b[0;34m\u001b[0m\u001b[0;34m\u001b[0m\u001b[0m\n\u001b[0m",
      "\u001b[0;31mAttributeError\u001b[0m: 'A' object has no attribute '__c'"
     ]
    }
   ],
   "source": [
    "# Это внешний код\n",
    "b = B(42)\n",
    "\n",
    "# Так нельзя, поле же private\n",
    "print(a.__c)"
   ]
  },
  {
   "cell_type": "code",
   "execution_count": 31,
   "metadata": {},
   "outputs": [
    {
     "data": {
      "text/plain": [
       "42"
      ]
     },
     "execution_count": 31,
     "metadata": {},
     "output_type": "execute_result"
    }
   ],
   "source": [
    "a._A__c"
   ]
  },
  {
   "cell_type": "code",
   "execution_count": 32,
   "metadata": {
    "id": "erOeuo2blMrS"
   },
   "outputs": [
    {
     "name": "stdout",
     "output_type": "stream",
     "text": [
      "42\n"
     ]
    }
   ],
   "source": [
    "# А вот так внезапно можно. Потому что всего лишь сокрытие имён. Главное - знать, где искать.\n",
    "print(b._A__c)"
   ]
  },
  {
   "cell_type": "code",
   "execution_count": 33,
   "metadata": {
    "id": "waJvUj7BlNze"
   },
   "outputs": [
    {
     "name": "stdout",
     "output_type": "stream",
     "text": [
      "42\n",
      "42\n"
     ]
    }
   ],
   "source": [
    "# Так можно\n",
    "b.do_some_work()"
   ]
  },
  {
   "cell_type": "code",
   "execution_count": 34,
   "metadata": {
    "id": "y9VzozLmlPXO"
   },
   "outputs": [
    {
     "ename": "AttributeError",
     "evalue": "'B' object has no attribute '__secret'",
     "output_type": "error",
     "traceback": [
      "\u001b[0;31m---------------------------------------------------------------------------\u001b[0m",
      "\u001b[0;31mAttributeError\u001b[0m                            Traceback (most recent call last)",
      "\u001b[0;32m<ipython-input-34-faf3f47674ef>\u001b[0m in \u001b[0;36m<module>\u001b[0;34m\u001b[0m\n\u001b[1;32m      1\u001b[0m \u001b[0;31m# Так нельзя\u001b[0m\u001b[0;34m\u001b[0m\u001b[0;34m\u001b[0m\u001b[0;34m\u001b[0m\u001b[0m\n\u001b[0;32m----> 2\u001b[0;31m \u001b[0mb\u001b[0m\u001b[0;34m.\u001b[0m\u001b[0m__secret\u001b[0m\u001b[0;34m(\u001b[0m\u001b[0;34m)\u001b[0m\u001b[0;34m\u001b[0m\u001b[0;34m\u001b[0m\u001b[0m\n\u001b[0m",
      "\u001b[0;31mAttributeError\u001b[0m: 'B' object has no attribute '__secret'"
     ]
    }
   ],
   "source": [
    "# Так нельзя\n",
    "b.__secret()"
   ]
  },
  {
   "cell_type": "code",
   "execution_count": 35,
   "metadata": {},
   "outputs": [
    {
     "data": {
      "text/plain": [
       "['a',\n",
       " '_b',\n",
       " '_A__c',\n",
       " '__module__',\n",
       " 'do_some_work',\n",
       " '_B__secret',\n",
       " '__doc__',\n",
       " '__init__',\n",
       " '__dict__',\n",
       " '__weakref__',\n",
       " '__repr__',\n",
       " '__hash__',\n",
       " '__str__',\n",
       " '__getattribute__',\n",
       " '__setattr__',\n",
       " '__delattr__',\n",
       " '__lt__',\n",
       " '__le__',\n",
       " '__eq__',\n",
       " '__ne__',\n",
       " '__gt__',\n",
       " '__ge__',\n",
       " '__new__',\n",
       " '__reduce_ex__',\n",
       " '__reduce__',\n",
       " '__subclasshook__',\n",
       " '__init_subclass__',\n",
       " '__format__',\n",
       " '__sizeof__',\n",
       " '__dir__',\n",
       " '__class__']"
      ]
     },
     "execution_count": 35,
     "metadata": {},
     "output_type": "execute_result"
    }
   ],
   "source": [
    "b.__dir__()"
   ]
  },
  {
   "cell_type": "code",
   "execution_count": 36,
   "metadata": {
    "id": "JcCyEBImlS_7"
   },
   "outputs": [
    {
     "name": "stdout",
     "output_type": "stream",
     "text": [
      "Secret!\n"
     ]
    }
   ],
   "source": [
    "# А так опять можно. Потому что опять главное - знать, где искать.\n",
    "b._B__secret()"
   ]
  },
  {
   "cell_type": "markdown",
   "metadata": {
    "id": "MG-Y7_Ewlj1D"
   },
   "source": [
    "### Некоторые служебные методы"
   ]
  },
  {
   "cell_type": "code",
   "execution_count": 37,
   "metadata": {
    "id": "CLRL97iDlaH2"
   },
   "outputs": [],
   "source": [
    "# Немного изнанки и служебных методов\n",
    "\n",
    "class A:\n",
    "    def __init__(self, v=42, t=\"asd\"):\n",
    "        self.data = v\n",
    "        self.tag = t\n",
    "\n",
    "    # Это позволяет задать, как будет виден объект глазами, например, в отладчике и консоли\n",
    "    def __repr__(self):\n",
    "        return \"class A: %d\" % self.data\n",
    "\n",
    "    # А это - во что превратится объект при явном кастовании в строку\n",
    "    # Если не задать __str__, для этой цели тоже будет использоваться __repr__\n",
    "    def __str__(self):\n",
    "        return \"Instance of class A with %d inside\" % self.data\n",
    "\n",
    "    # Как проверять экземпляры на равенство\n",
    "    # Это примерно перегрузка оператора ==\n",
    "    def __eq__(self, other):\n",
    "        return self.data == other.data and self.tag == other.tag\n",
    "\n",
    "    # Ещё есть перегрузка\n",
    "    # __ne__(self, other)\n",
    "    # __lt__(self, other)\n",
    "    # __le__(self, other)\n",
    "    # __gt__(self, other)\n",
    "    # __ge__(self, other)\n",
    "\n",
    "    # И математику при большом желании тоже можно перегружать\n",
    "    # __add__(self, other)\n",
    "    # __mul__(self, other)\n",
    "    # __sub__(self, other)\n",
    "    # __mod__(self, other)\n",
    "    # __truediv__(self, other)\n",
    "\n",
    "    # Есть ещё более нишевые служебные методы в духе индексации, получения размера и т.д.\n",
    "\n",
    "    # Немного особняком стоит __hash__\n",
    "    # Он вычисляет хэш для экземпляра класса.\n",
    "    # А этот хэш используется, когда класс должен быть сложен в set или оказаться ключом в dict-е.\n",
    "    # (Под капотом set и dict реализованы как хэш-таблицы. Так что нужен хэш для объекта, чтобы его туда сложить.)\n",
    "    def __hash__(self):\n",
    "        # Здесь сейчас сказано, что хэш считается по таплу, в который включены два поля.\n",
    "        # То есть хэши для двух экземпляров класса будут разные, если значение хотя бы одно из полей у них разное.\n",
    "        # Хэши совпадут, если значения обоих полей совпадёт.\n",
    "        # Логически это как будто очень близко к __eq__, но технически используется для совсем других целей.\n",
    "        return hash((self.data, self.tag))"
   ]
  },
  {
   "cell_type": "code",
   "execution_count": 38,
   "metadata": {},
   "outputs": [],
   "source": [
    "class TestClass():\n",
    "    \n",
    "    pseudo_static = 10\n",
    "    \n",
    "    def __init__(self, content):\n",
    "        self.__content = content\n",
    "        \n",
    "    @staticmethod\n",
    "    def get_fib_generator(n):\n",
    "        return fib_generator(n)\n",
    "    \n",
    "    @classmethod\n",
    "    def some_cls_method(cls, argument):\n",
    "        return cls.get_fib_generator(cls.pseudo_static)\n",
    "    \n",
    "    @property\n",
    "    def content(self):\n",
    "        return self.__content\n",
    "    \n",
    "    @content.setter\n",
    "    def content(self, value):\n",
    "        print(\"setting\")\n",
    "        self.__content = value"
   ]
  },
  {
   "cell_type": "code",
   "execution_count": 39,
   "metadata": {},
   "outputs": [],
   "source": [
    "t = TestClass(4)"
   ]
  },
  {
   "cell_type": "code",
   "execution_count": 40,
   "metadata": {},
   "outputs": [
    {
     "name": "stdout",
     "output_type": "stream",
     "text": [
      "setting\n"
     ]
    }
   ],
   "source": [
    "t.content = 5"
   ]
  },
  {
   "cell_type": "code",
   "execution_count": 43,
   "metadata": {},
   "outputs": [
    {
     "data": {
      "text/plain": [
       "<generator object fib_generator at 0x7f3e8402e258>"
      ]
     },
     "execution_count": 43,
     "metadata": {},
     "output_type": "execute_result"
    }
   ],
   "source": [
    "t.get_fib_generator(5)"
   ]
  },
  {
   "cell_type": "code",
   "execution_count": 44,
   "metadata": {},
   "outputs": [
    {
     "data": {
      "text/plain": [
       "<generator object fib_generator at 0x7f3e8402e200>"
      ]
     },
     "execution_count": 44,
     "metadata": {},
     "output_type": "execute_result"
    }
   ],
   "source": [
    "TestClass.get_fib_generator(4)"
   ]
  },
  {
   "cell_type": "code",
   "execution_count": 45,
   "metadata": {},
   "outputs": [
    {
     "name": "stdout",
     "output_type": "stream",
     "text": [
      "0 1 1 2\n"
     ]
    }
   ],
   "source": [
    "print(*TestClass.get_fib_generator(4))"
   ]
  },
  {
   "cell_type": "code",
   "execution_count": 46,
   "metadata": {},
   "outputs": [
    {
     "data": {
      "text/plain": [
       "<generator object fib_generator at 0x7f3e8402e308>"
      ]
     },
     "execution_count": 46,
     "metadata": {},
     "output_type": "execute_result"
    }
   ],
   "source": [
    "TestClass.some_cls_method(4)"
   ]
  },
  {
   "cell_type": "markdown",
   "metadata": {
    "id": "W87XGCfVs8tP"
   },
   "source": [
    "# Кратко изложение PEP-8 "
   ]
  },
  {
   "cell_type": "markdown",
   "metadata": {
    "id": "8kqkkf-ttZOF"
   },
   "source": [
    "### Внешний вид кода\n",
    "\n"
   ]
  },
  {
   "cell_type": "markdown",
   "metadata": {
    "id": "z0JCG8j6tf4k"
   },
   "source": [
    "#### Отступы\n",
    "\n",
    "Отделение блоков кода производится либо табуляцией, либо 4 пробелами. При этом допускается использование только одного из двух (интерпретаторы Python 3.+ обращают на это внимание)\n",
    "\n",
    "Есть два способа выравнивания элементов, обернутых в скобки (круглые, квадратные или фигурные). Первое — это вертикальное выравнивание, второе — использование висячего отступа. Следует помнить, что во втором случае на первой линии не должно быть аргументов, а последующие строки должны выравниваться с одинаковым отступом."
   ]
  },
  {
   "cell_type": "markdown",
   "metadata": {
    "id": "AUzwwnz_umes"
   },
   "source": [
    "##### Правильно"
   ]
  },
  {
   "cell_type": "code",
   "execution_count": 47,
   "metadata": {
    "colab": {
     "base_uri": "https://localhost:8080/"
    },
    "id": "BfrAyKxklr4d",
    "outputId": "a699c773-6b28-46bc-81e0-3092d7630081"
   },
   "outputs": [
    {
     "name": "stdout",
     "output_type": "stream",
     "text": [
      "None\n"
     ]
    }
   ],
   "source": [
    "var_one, var_two, var_three, var_four = (None, ) * 4\n",
    "\n",
    "# Использование висячего отступа.  Добавлены пробелы, для отделения аргументов от блока кода.\n",
    "def long_function_name(\n",
    "        var_one, var_two, var_three,\n",
    "        var_four):\n",
    "    print(var_one)\n",
    "\n",
    "# Вертикальное выравнивание\n",
    "foo = long_function_name(var_one, var_two,\n",
    "                         var_three, var_four)\n"
   ]
  },
  {
   "cell_type": "markdown",
   "metadata": {
    "id": "zYBa1KRVu26B"
   },
   "source": [
    "##### Неправильно"
   ]
  },
  {
   "cell_type": "code",
   "execution_count": null,
   "metadata": {
    "colab": {
     "base_uri": "https://localhost:8080/"
    },
    "id": "1lDwx5m9uyEW",
    "outputId": "3d85a699-66e6-40d0-d33b-c408a73bc5b2"
   },
   "outputs": [
    {
     "name": "stdout",
     "output_type": "stream",
     "text": [
      "None\n"
     ]
    }
   ],
   "source": [
    "# Аргументы на первой линии запрещены, если не используется вертикальное выравнивание\n",
    "foo = long_function_name(var_one, var_two,\n",
    "    var_three, var_four)\n",
    "\n",
    "# Требуется больший отступ для выделения висячего отступа\n",
    "def long_function_name(\n",
    "    var_one, var_two, var_three,\n",
    "    var_four):\n",
    "    print(var_one)"
   ]
  },
  {
   "cell_type": "markdown",
   "metadata": {
    "id": "H2vOMX5hvHx5"
   },
   "source": [
    "##### Опционально"
   ]
  },
  {
   "cell_type": "code",
   "execution_count": null,
   "metadata": {
    "colab": {
     "base_uri": "https://localhost:8080/"
    },
    "id": "UQQ5yfecvOtj",
    "outputId": "87cfddc7-8e31-4c35-b154-cfbf9f42a199"
   },
   "outputs": [
    {
     "name": "stdout",
     "output_type": "stream",
     "text": [
      "None\n"
     ]
    }
   ],
   "source": [
    "# Нет необходимости в большем количестве отступов\n",
    "foo = long_function_name(\n",
    "  var_one, var_two,\n",
    "  var_three, var_four)"
   ]
  },
  {
   "cell_type": "markdown",
   "metadata": {
    "id": "KhGE_6wNvhxZ"
   },
   "source": [
    "Закрывающие скобки в многострочных конструкциях могут находиться на последней строке с аргументами функций или элементами коллекций, на отдельной строке под первым непробельным символом предыдущей строки либо на отдельной строке под первым символом строки, начинающей многострочную конструкцию.  "
   ]
  },
  {
   "cell_type": "code",
   "execution_count": null,
   "metadata": {
    "colab": {
     "base_uri": "https://localhost:8080/",
     "height": 244
    },
    "id": "Pm9olLKlvQim",
    "outputId": "50608b28-dfdc-41c1-e7cb-b1a5191f66c5"
   },
   "outputs": [],
   "source": [
    "my_list = [\n",
    "    1, 2, 3,\n",
    "    4, 5, 6,\n",
    "    ]\n",
    "result = some_function_that_takes_arguments(\n",
    "    'a', 'b', 'c',\n",
    "    'd', 'e', 'f',\n",
    "    )\n",
    "\n",
    "my_another_list = [\n",
    "    1, 2, 3,\n",
    "    4, 5, 6,\n",
    "]\n",
    "result = another_function_that_takes_arguments(\n",
    "    'a', 'b', 'c',\n",
    "    'd', 'e', 'f',\n",
    ")"
   ]
  },
  {
   "cell_type": "markdown",
   "metadata": {
    "id": "LIm3EvopvsxW"
   },
   "source": [
    "### Максимальная длина строки \n",
    "\n",
    " Длина строки не должна превышать 79 символов. Строки документации и комментариев ограничиваются 72 символами. Для этого используют переносы строк внутри скобок. Однако бинарные операторы и некоторые конструкции требуют использования обратного слеша для явного указания, что используется многострочная конструкция."
   ]
  },
  {
   "cell_type": "code",
   "execution_count": null,
   "metadata": {
    "id": "y2AdgeShvo4L"
   },
   "outputs": [],
   "source": [
    "# Такие конструкции требуют использование обратного слеша\n",
    "with open('/path/to/some/file/you/want/to/read') as file_1, \\\n",
    "        open('/path/to/some/file/being/written', 'w') as file_2:\n",
    "    file_2.write(file_1.read())\n",
    "    \n",
    "sum_of_elements = value1 + \\\n",
    "    value2\n"
   ]
  },
  {
   "cell_type": "code",
   "execution_count": null,
   "metadata": {
    "id": "1meBH0KRv7jD"
   },
   "outputs": [],
   "source": [
    "#С другой стороны, если выражение обернуто в скобки, то бинарные операторы уже не требуют обратного слеша  \n",
    "\n",
    "income = (gross_wages\n",
    "          + taxable_interest\n",
    "          + (dividends - qualified_dividends)\n",
    "          - ira_deduction\n",
    "          - student_loan_interest)"
   ]
  },
  {
   "cell_type": "markdown",
   "metadata": {
    "id": "tcrp990iwBCu"
   },
   "source": [
    "### Пустые строки\n",
    "\n",
    "Функции верхнего уровня и определения классов отделяются двумя пустыми строками. Методы внутри класса разделяются одной пустой строкой. Можно использовать пустые строки для логического разделения кода."
   ]
  },
  {
   "cell_type": "markdown",
   "metadata": {
    "id": "GQuGOJQfwUmA"
   },
   "source": [
    "### Кодировка\n",
    "Кодировка Python должна быть UTF-8. Файлы не должны иметь объявления кодировки.\n",
    "\n",
    "Начиная с версии Python 3.0 в стандартной библиотеке действует следующее соглашение: все идентификаторы обязаны содержать только ASCII символы, и означать английские слова везде, где это возможно (во многих случаях используются сокращения или неанглийские технические термины). Кроме того, строки и комментарии тоже должны содержать лишь ASCII символы. Исключения составляют: (а) test case, тестирующий не-ASCII особенности программы, и (б) имена авторов. Авторы, чьи имена основаны не на латинском алфавите, должны транслитерировать свои имена в латиницу.\n",
    "\n",
    "Проектам с открытым кодом для широкой аудитории также рекомендуется использовать это соглашение."
   ]
  },
  {
   "cell_type": "markdown",
   "metadata": {
    "id": "vmMtGeaDwgdw"
   },
   "source": [
    "### Импорты\n",
    "Импорт каждого нового модуля должен быть на отдельной строке. Если импортируется несколько сущностей из одного и того же модуля, допустимо их перечисление через запятую. "
   ]
  },
  {
   "cell_type": "code",
   "execution_count": null,
   "metadata": {
    "id": "a3b6rLX4wARR"
   },
   "outputs": [],
   "source": [
    "import os\n",
    "import sys\n",
    "\n",
    "from subprocess import Popen, PIPE"
   ]
  },
  {
   "cell_type": "markdown",
   "metadata": {
    "id": "KDNaNeWnwz89"
   },
   "source": [
    "Импорты всегда помещаются в начале файла, сразу после комментариев к модулю и строк документации, и перед объявлением констант. Порядок импортов следующий:\n",
    "\n",
    "1. Импорты из стандартной библиотеки\n",
    "\n",
    "2. Импорты сторонних библиотек\n",
    "\n",
    "3. Импорты модулей текущего проекта\n",
    "\n",
    "Между каждой группой импортов вставляется пустая строка."
   ]
  },
  {
   "cell_type": "markdown",
   "metadata": {
    "id": "mqxIKh_dxYWC"
   },
   "source": [
    "### Избегайте расстановки пробелов в следующих случаях"
   ]
  },
  {
   "cell_type": "markdown",
   "metadata": {
    "id": "izdVVNbFyEKm"
   },
   "source": [
    "##### Непосредственно внутри скобок:  "
   ]
  },
  {
   "cell_type": "code",
   "execution_count": null,
   "metadata": {
    "colab": {
     "base_uri": "https://localhost:8080/",
     "height": 244
    },
    "id": "yRggDU5gxVD1",
    "outputId": "af31ab9d-fa9c-4dde-9cfc-5b5ebd89c33b"
   },
   "outputs": [],
   "source": [
    "# Правильно\n",
    "spam(ham[1], {eggs: 2})\n",
    "\n",
    "# Неправильно\n",
    "spam( ham[ 1 ], { eggs: 2 } )"
   ]
  },
  {
   "cell_type": "markdown",
   "metadata": {
    "id": "r-qzqygmyIpg"
   },
   "source": [
    "Непосредственно перед запятой, точкой с запятой или двоеточием:"
   ]
  },
  {
   "cell_type": "code",
   "execution_count": null,
   "metadata": {
    "id": "QSiJS2e8w2S2"
   },
   "outputs": [],
   "source": [
    "# Правильно\n",
    "if x == 4: print(x, y); x, y = y, x\n",
    "\n",
    "# Неправильно\n",
    "if x == 4 : print(x , y) ; x , y = y , x"
   ]
  },
  {
   "cell_type": "markdown",
   "metadata": {
    "id": "ppbL3Q_HyN2_"
   },
   "source": [
    "##### Сразу перед открывающей скобкой, после которой начинается список аргументов при вызове функции:"
   ]
  },
  {
   "cell_type": "code",
   "execution_count": null,
   "metadata": {
    "id": "3VtNS4A-xnop"
   },
   "outputs": [],
   "source": [
    "# Правильно\n",
    "spam(1)\n",
    "\n",
    "# Неправильно\n",
    "spam (1)"
   ]
  },
  {
   "cell_type": "markdown",
   "metadata": {
    "id": "g5WK3pS8yZda"
   },
   "source": [
    "#### Сразу перед открывающей скобкой, после которой следует индекс или срез:  "
   ]
  },
  {
   "cell_type": "code",
   "execution_count": null,
   "metadata": {
    "id": "AbncIM47yeX0"
   },
   "outputs": [],
   "source": [
    "# Правильно\n",
    "my_dict['key'] = my_list[index]\n",
    "\n",
    "# Неправильно\n",
    "my_dict ['key'] = my_list [index]"
   ]
  },
  {
   "cell_type": "markdown",
   "metadata": {
    "id": "L_HYEFbTzFjl"
   },
   "source": [
    "### Соглашение об именах"
   ]
  },
  {
   "cell_type": "markdown",
   "metadata": {
    "id": "DE8MB1ZfzQcL"
   },
   "source": [
    "Имена модулей должны записываться коротко, маленькими буквами. Подчеркивания допускаются, если это улучшает читаемость. В именах пакетов предпочтительнее не использовать подчеркивание.\n",
    "\n",
    "* Имена классов пишутся в виде много идущих подряд слов, каждое с заглавной буквы. Если в названии есть аббревиатура, то она пишется заглавными буквами.\n",
    "\n",
    "* Исключение тоже является классом.\n",
    "\n",
    "* Имена функций пишутся с маленькой буквы, между словами используют подчеркивание.\n",
    "\n",
    "* Стиль именования функций, когда слова пишутся подряд с заглавной буквы, кроме первого слова, допустим только в тех местах, где уже преобладает такой стиль, для сохранения обратной совместимости.\n",
    "\n",
    "* Имена переменных или открытых атрибутов класса состоят из маленьких букв, слова разделяются символами подчеркивания.\n",
    "\n",
    "* Имена глобальных констант состоят из заглавных букв, слова разделяются символами подчеркивания.\n",
    "\n",
    "Например:\n",
    "\n",
    "* mymodule — модуль или пакет\n",
    "\n",
    "* UserClassName — класс\n",
    "\n",
    "* ExceptionsAreAlsoClasses — исключение\n",
    "\n",
    "* function_name — функция или метод\n",
    "\n",
    "* notDesiredFunctionName — менее предпочтительное имя функции\n",
    "\n",
    "* variable_name — переменная или открытый атрибут класса\n",
    "\n",
    "* GLOBAL_CONSTANT — глобальная константа"
   ]
  },
  {
   "cell_type": "markdown",
   "metadata": {
    "id": "3yJqpDBzzk0J"
   },
   "source": [
    "### P.S.: PEP-8 - это все-таки не свод правил. \n",
    "\n",
    "Некоторые весьма популярные репозитории его нарушают. Пример - https://github.com/openai/DALL-E (8.7k звезд).\n",
    "\n",
    "Однако использовать PEP-8 вместо стиля, который придумал Петрович под шофе во время разработки кастомной либы для каких-то уникальных расчетов - хорошо. Не в ущерб читаемости, конечно."
   ]
  },
  {
   "cell_type": "code",
   "execution_count": null,
   "metadata": {
    "id": "nE3G1DhmzPdz"
   },
   "outputs": [],
   "source": []
  }
 ],
 "metadata": {
  "colab": {
   "collapsed_sections": [],
   "provenance": []
  },
  "kernelspec": {
   "display_name": "Python 3",
   "language": "python",
   "name": "python3"
  },
  "language_info": {
   "codemirror_mode": {
    "name": "ipython",
    "version": 3
   },
   "file_extension": ".py",
   "mimetype": "text/x-python",
   "name": "python",
   "nbconvert_exporter": "python",
   "pygments_lexer": "ipython3",
   "version": "3.6.9"
  }
 },
 "nbformat": 4,
 "nbformat_minor": 1
}
